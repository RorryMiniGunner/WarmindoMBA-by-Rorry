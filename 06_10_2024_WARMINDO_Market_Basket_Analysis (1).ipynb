{
  "cells": [
    {
      "cell_type": "markdown",
      "metadata": {
        "id": "yFkVo0GvdF5T"
      },
      "source": [
        "# **Market Basket Analysis**\n"
      ]
    },
    {
      "cell_type": "markdown",
      "metadata": {
        "id": "Jj6gV75smy9o"
      },
      "source": [
        "\n",
        "\n",
        "---\n",
        "\n"
      ]
    },
    {
      "cell_type": "markdown",
      "metadata": {
        "id": "LWqZv3hwm_-7"
      },
      "source": [
        "## **1. Import Library**"
      ]
    },
    {
      "cell_type": "code",
      "execution_count": 68,
      "metadata": {
        "colab": {
          "base_uri": "https://localhost:8080/"
        },
        "id": "UuwanqKPYdPs",
        "outputId": "26748482-aa34-4e74-b995-00dbb90c9a63"
      },
      "outputs": [],
      "source": [
        "import pandas as pd\n",
        "import numpy as np\n",
        "import seaborn as sns\n",
        "import matplotlib.pyplot as plt\n",
        "%matplotlib inline\n"
      ]
    },
    {
      "cell_type": "code",
      "execution_count": 6,
      "metadata": {
        "colab": {
          "base_uri": "https://localhost:8080/"
        },
        "id": "qUC5TKBKCNIO",
        "outputId": "105e1f36-026a-4890-93ba-508296dae0f1"
      },
      "outputs": [
        {
          "name": "stderr",
          "output_type": "stream",
          "text": [
            "/usr/local/lib/python3.10/dist-packages/ipykernel/ipkernel.py:283: DeprecationWarning: `should_run_async` will not call `transform_cell` automatically in the future. Please pass the result to `transformed_cell` argument and any exception that happen during thetransform in `preprocessing_exc_tuple` in IPython 7.17 and above.\n",
            "  and should_run_async(code)\n"
          ]
        },
        {
          "name": "stdout",
          "output_type": "stream",
          "text": [
            "Mounted at /content/drive\n"
          ]
        }
      ],
      "source": [
        "from google.colab import drive\n",
        "drive.mount('/content/drive')"
      ]
    },
    {
      "cell_type": "markdown",
      "metadata": {
        "id": "qlcuzs3XZ_K4"
      },
      "source": [
        "## **2. Import Dataset**\n"
      ]
    },
    {
      "cell_type": "code",
      "execution_count": 3,
      "metadata": {
        "colab": {
          "base_uri": "https://localhost:8080/",
          "height": 514
        },
        "id": "CndlRKOFYrkU",
        "outputId": "2d6b4f75-c6fb-4252-dcc6-ea8a934fca45"
      },
      "outputs": [
        {
          "data": {
            "text/html": [
              "<div>\n",
              "<style scoped>\n",
              "    .dataframe tbody tr th:only-of-type {\n",
              "        vertical-align: middle;\n",
              "    }\n",
              "\n",
              "    .dataframe tbody tr th {\n",
              "        vertical-align: top;\n",
              "    }\n",
              "\n",
              "    .dataframe thead th {\n",
              "        text-align: right;\n",
              "    }\n",
              "</style>\n",
              "<table border=\"1\" class=\"dataframe\">\n",
              "  <thead>\n",
              "    <tr style=\"text-align: right;\">\n",
              "      <th></th>\n",
              "      <th>id</th>\n",
              "      <th>invoice_id</th>\n",
              "      <th>tanggal_transaksi</th>\n",
              "      <th>customer_id</th>\n",
              "      <th>nama_produk</th>\n",
              "      <th>jenis_produk</th>\n",
              "      <th>kategori_produk</th>\n",
              "      <th>quantity</th>\n",
              "      <th>harga_jual</th>\n",
              "      <th>jenis_pembayaran</th>\n",
              "      <th>jenis_pesanan</th>\n",
              "      <th>nilai_penjualan</th>\n",
              "    </tr>\n",
              "  </thead>\n",
              "  <tbody>\n",
              "    <tr>\n",
              "      <th>0</th>\n",
              "      <td>1</td>\n",
              "      <td>1</td>\n",
              "      <td>4/11/22</td>\n",
              "      <td>44</td>\n",
              "      <td>Indomie Ayam Spesial</td>\n",
              "      <td>mie-kuah</td>\n",
              "      <td>makanan</td>\n",
              "      <td>2</td>\n",
              "      <td>9000</td>\n",
              "      <td>QRIS-OVO</td>\n",
              "      <td>Dine-In</td>\n",
              "      <td>18000</td>\n",
              "    </tr>\n",
              "    <tr>\n",
              "      <th>1</th>\n",
              "      <td>2</td>\n",
              "      <td>2</td>\n",
              "      <td>8/1/22</td>\n",
              "      <td>10</td>\n",
              "      <td>Indomie Ayam Spesial</td>\n",
              "      <td>mie-kuah</td>\n",
              "      <td>makanan</td>\n",
              "      <td>2</td>\n",
              "      <td>9000</td>\n",
              "      <td>CASH</td>\n",
              "      <td>Delivery</td>\n",
              "      <td>18000</td>\n",
              "    </tr>\n",
              "    <tr>\n",
              "      <th>2</th>\n",
              "      <td>3</td>\n",
              "      <td>3</td>\n",
              "      <td>4/3/22</td>\n",
              "      <td>62</td>\n",
              "      <td>Indomie Rasa Soto Betawi</td>\n",
              "      <td>mie-kuah</td>\n",
              "      <td>makanan</td>\n",
              "      <td>1</td>\n",
              "      <td>10000</td>\n",
              "      <td>QRIS-OTHERS</td>\n",
              "      <td>Delivery</td>\n",
              "      <td>10000</td>\n",
              "    </tr>\n",
              "    <tr>\n",
              "      <th>3</th>\n",
              "      <td>4</td>\n",
              "      <td>4</td>\n",
              "      <td>3/19/22</td>\n",
              "      <td>48</td>\n",
              "      <td>Indomie Rasa Soto Padang</td>\n",
              "      <td>mie-kuah</td>\n",
              "      <td>makanan</td>\n",
              "      <td>3</td>\n",
              "      <td>10000</td>\n",
              "      <td>CASH</td>\n",
              "      <td>Dine-In</td>\n",
              "      <td>30000</td>\n",
              "    </tr>\n",
              "    <tr>\n",
              "      <th>4</th>\n",
              "      <td>5</td>\n",
              "      <td>5</td>\n",
              "      <td>4/29/22</td>\n",
              "      <td>87</td>\n",
              "      <td>Indomie Rasa Sop Buntut</td>\n",
              "      <td>mie-kuah</td>\n",
              "      <td>makanan</td>\n",
              "      <td>2</td>\n",
              "      <td>10000</td>\n",
              "      <td>QRIS-OVO</td>\n",
              "      <td>Dine-In</td>\n",
              "      <td>20000</td>\n",
              "    </tr>\n",
              "    <tr>\n",
              "      <th>...</th>\n",
              "      <td>...</td>\n",
              "      <td>...</td>\n",
              "      <td>...</td>\n",
              "      <td>...</td>\n",
              "      <td>...</td>\n",
              "      <td>...</td>\n",
              "      <td>...</td>\n",
              "      <td>...</td>\n",
              "      <td>...</td>\n",
              "      <td>...</td>\n",
              "      <td>...</td>\n",
              "      <td>...</td>\n",
              "    </tr>\n",
              "    <tr>\n",
              "      <th>494</th>\n",
              "      <td>495</td>\n",
              "      <td>495</td>\n",
              "      <td>5/17/22</td>\n",
              "      <td>11</td>\n",
              "      <td>Indomie Baso Sapi</td>\n",
              "      <td>mie-kuah</td>\n",
              "      <td>makanan</td>\n",
              "      <td>1</td>\n",
              "      <td>9000</td>\n",
              "      <td>CASH</td>\n",
              "      <td>Delivery</td>\n",
              "      <td>9000</td>\n",
              "    </tr>\n",
              "    <tr>\n",
              "      <th>495</th>\n",
              "      <td>496</td>\n",
              "      <td>496</td>\n",
              "      <td>6/6/22</td>\n",
              "      <td>55</td>\n",
              "      <td>Indomie Goreng Spesial</td>\n",
              "      <td>mie-goreng</td>\n",
              "      <td>makanan</td>\n",
              "      <td>1</td>\n",
              "      <td>9000</td>\n",
              "      <td>QRIS-GOPAY</td>\n",
              "      <td>Delivery</td>\n",
              "      <td>9000</td>\n",
              "    </tr>\n",
              "    <tr>\n",
              "      <th>496</th>\n",
              "      <td>497</td>\n",
              "      <td>497</td>\n",
              "      <td>7/14/22</td>\n",
              "      <td>25</td>\n",
              "      <td>Indomie Goreng Rendang</td>\n",
              "      <td>mie-goreng</td>\n",
              "      <td>makanan</td>\n",
              "      <td>2</td>\n",
              "      <td>9000</td>\n",
              "      <td>QRIS-GOPAY</td>\n",
              "      <td>Delivery</td>\n",
              "      <td>18000</td>\n",
              "    </tr>\n",
              "    <tr>\n",
              "      <th>497</th>\n",
              "      <td>498</td>\n",
              "      <td>498</td>\n",
              "      <td>8/22/22</td>\n",
              "      <td>39</td>\n",
              "      <td>Indomie Goreng Pedas</td>\n",
              "      <td>mie-goreng</td>\n",
              "      <td>makanan</td>\n",
              "      <td>2</td>\n",
              "      <td>9000</td>\n",
              "      <td>QRIS-DANA</td>\n",
              "      <td>Delivery</td>\n",
              "      <td>18000</td>\n",
              "    </tr>\n",
              "    <tr>\n",
              "      <th>498</th>\n",
              "      <td>499</td>\n",
              "      <td>499</td>\n",
              "      <td>6/21/22</td>\n",
              "      <td>79</td>\n",
              "      <td>Indomie Soto Mie</td>\n",
              "      <td>mie-kuah</td>\n",
              "      <td>makanan</td>\n",
              "      <td>1</td>\n",
              "      <td>9000</td>\n",
              "      <td>QRIS-OVO</td>\n",
              "      <td>Dine-In</td>\n",
              "      <td>9000</td>\n",
              "    </tr>\n",
              "  </tbody>\n",
              "</table>\n",
              "<p>499 rows × 12 columns</p>\n",
              "</div>"
            ],
            "text/plain": [
              "      id  invoice_id tanggal_transaksi  customer_id               nama_produk  \\\n",
              "0      1           1           4/11/22           44      Indomie Ayam Spesial   \n",
              "1      2           2            8/1/22           10      Indomie Ayam Spesial   \n",
              "2      3           3            4/3/22           62  Indomie Rasa Soto Betawi   \n",
              "3      4           4           3/19/22           48  Indomie Rasa Soto Padang   \n",
              "4      5           5           4/29/22           87   Indomie Rasa Sop Buntut   \n",
              "..   ...         ...               ...          ...                       ...   \n",
              "494  495         495           5/17/22           11         Indomie Baso Sapi   \n",
              "495  496         496            6/6/22           55    Indomie Goreng Spesial   \n",
              "496  497         497           7/14/22           25    Indomie Goreng Rendang   \n",
              "497  498         498           8/22/22           39      Indomie Goreng Pedas   \n",
              "498  499         499           6/21/22           79          Indomie Soto Mie   \n",
              "\n",
              "    jenis_produk kategori_produk  quantity  harga_jual jenis_pembayaran  \\\n",
              "0       mie-kuah         makanan         2        9000         QRIS-OVO   \n",
              "1       mie-kuah         makanan         2        9000             CASH   \n",
              "2       mie-kuah         makanan         1       10000      QRIS-OTHERS   \n",
              "3       mie-kuah         makanan         3       10000             CASH   \n",
              "4       mie-kuah         makanan         2       10000         QRIS-OVO   \n",
              "..           ...             ...       ...         ...              ...   \n",
              "494     mie-kuah         makanan         1        9000             CASH   \n",
              "495   mie-goreng         makanan         1        9000       QRIS-GOPAY   \n",
              "496   mie-goreng         makanan         2        9000       QRIS-GOPAY   \n",
              "497   mie-goreng         makanan         2        9000        QRIS-DANA   \n",
              "498     mie-kuah         makanan         1        9000         QRIS-OVO   \n",
              "\n",
              "    jenis_pesanan  nilai_penjualan  \n",
              "0         Dine-In            18000  \n",
              "1        Delivery            18000  \n",
              "2        Delivery            10000  \n",
              "3         Dine-In            30000  \n",
              "4         Dine-In            20000  \n",
              "..            ...              ...  \n",
              "494      Delivery             9000  \n",
              "495      Delivery             9000  \n",
              "496      Delivery            18000  \n",
              "497      Delivery            18000  \n",
              "498       Dine-In             9000  \n",
              "\n",
              "[499 rows x 12 columns]"
            ]
          },
          "execution_count": 3,
          "metadata": {},
          "output_type": "execute_result"
        }
      ],
      "source": [
        "df = pd.read_csv('warmindo_free_ngulikdata (1).csv')\n",
        "encoding = 'latin-1'\n",
        "df"
      ]
    },
    {
      "cell_type": "code",
      "execution_count": null,
      "metadata": {
        "cellView": "form",
        "colab": {
          "base_uri": "https://localhost:8080/",
          "height": 430
        },
        "id": "Ne6FUJFmp7Q0",
        "outputId": "3768c4d9-3fcd-44d0-d7b4-f94776cc4976"
      },
      "outputs": [
        {
          "data": {
            "image/png": "[encoded data removed]",
            "text/plain": [
              "<Figure size 640x480 with 1 Axes>"
            ]
          },
          "metadata": {},
          "output_type": "display_data"
        }
      ],
      "source": [
        "# @title bulan\n",
        "\n",
        "from matplotlib import pyplot as plt\n",
        "import seaborn as sns\n",
        "df.groupby('bulan').size().plot(kind='barh', color=sns.palettes.mpl_palette('Dark2'))\n",
        "plt.gca().spines[['top', 'right',]].set_visible(False)"
      ]
    },
    {
      "cell_type": "code",
      "execution_count": null,
      "metadata": {
        "cellView": "form",
        "colab": {
          "base_uri": "https://localhost:8080/",
          "height": 430
        },
        "id": "xb4woeldpaqi",
        "outputId": "ea41cc1a-2f4e-43f8-8656-fab32086969f"
      },
      "outputs": [
        {
          "data": {
            "image/png": "[encoded data removed]",
            "text/plain": [
              "<Figure size 640x480 with 1 Axes>"
            ]
          },
          "metadata": {},
          "output_type": "display_data"
        }
      ],
      "source": [
        "# @title jenis_pesanan\n",
        "\n",
        "from matplotlib import pyplot as plt\n",
        "import seaborn as sns\n",
        "df.groupby('jenis_pesanan').size().plot(kind='barh', color=sns.palettes.mpl_palette('Dark2'))\n",
        "plt.gca().spines[['top', 'right',]].set_visible(False)"
      ]
    },
    {
      "cell_type": "markdown",
      "metadata": {
        "id": "0A0xY-Pbrxl8"
      },
      "source": [
        "Dari tabel diatas, menunjukkan jumlah data pada dataset terdapat 500 baris dan 12 kolom"
      ]
    },
    {
      "cell_type": "markdown",
      "metadata": {
        "id": "IOJ1fl8ipEJn"
      },
      "source": [
        "## **3. Data Preparation**\n"
      ]
    },
    {
      "cell_type": "code",
      "execution_count": 4,
      "metadata": {
        "colab": {
          "base_uri": "https://localhost:8080/"
        },
        "id": "EnD2MM1oYrge",
        "outputId": "724964b4-4078-43de-9a9f-104266c40b47"
      },
      "outputs": [
        {
          "name": "stdout",
          "output_type": "stream",
          "text": [
            "Dataset Information: \n",
            "\n",
            "<class 'pandas.core.frame.DataFrame'>\n",
            "RangeIndex: 499 entries, 0 to 498\n",
            "Data columns (total 12 columns):\n",
            " #   Column             Non-Null Count  Dtype \n",
            "---  ------             --------------  ----- \n",
            " 0   id                 499 non-null    int64 \n",
            " 1   invoice_id         499 non-null    int64 \n",
            " 2   tanggal_transaksi  499 non-null    object\n",
            " 3   customer_id        499 non-null    int64 \n",
            " 4   nama_produk        499 non-null    object\n",
            " 5   jenis_produk       499 non-null    object\n",
            " 6   kategori_produk    499 non-null    object\n",
            " 7   quantity           499 non-null    int64 \n",
            " 8   harga_jual         499 non-null    int64 \n",
            " 9   jenis_pembayaran   499 non-null    object\n",
            " 10  jenis_pesanan      499 non-null    object\n",
            " 11  nilai_penjualan    499 non-null    int64 \n",
            "dtypes: int64(6), object(6)\n",
            "memory usage: 46.9+ KB\n",
            "None\n"
          ]
        }
      ],
      "source": [
        "# cek tipe data dari setiap kolom\n",
        "print('Dataset Information: \\n')\n",
        "print(df.info())"
      ]
    },
    {
      "cell_type": "code",
      "execution_count": 5,
      "metadata": {
        "colab": {
          "base_uri": "https://localhost:8080/"
        },
        "id": "ZUvFxXVYYrdn",
        "outputId": "59993c0a-0cb1-4fa0-f685-1df9fa919829"
      },
      "outputs": [
        {
          "name": "stdout",
          "output_type": "stream",
          "text": [
            "First Ten Rows of the DataFrame: \n",
            "\n",
            "   id  invoice_id tanggal_transaksi  customer_id               nama_produk  \\\n",
            "0   1           1           4/11/22           44      Indomie Ayam Spesial   \n",
            "1   2           2            8/1/22           10      Indomie Ayam Spesial   \n",
            "2   3           3            4/3/22           62  Indomie Rasa Soto Betawi   \n",
            "3   4           4           3/19/22           48  Indomie Rasa Soto Padang   \n",
            "4   5           5           4/29/22           87   Indomie Rasa Sop Buntut   \n",
            "5   6           6           7/23/22           80      Indomie Ayam Spesial   \n",
            "6   7           7            2/4/22           15         Indomie Baso Sapi   \n",
            "7   8           8            1/8/22           94   Indomie Rasa Sop Buntut   \n",
            "8   9           9            1/3/22            6          Indomie Soto Mie   \n",
            "9  10          10           6/11/22           86   Indomie Goreng Cabe Ijo   \n",
            "\n",
            "  jenis_produk kategori_produk  quantity  harga_jual jenis_pembayaran  \\\n",
            "0     mie-kuah         makanan         2        9000         QRIS-OVO   \n",
            "1     mie-kuah         makanan         2        9000             CASH   \n",
            "2     mie-kuah         makanan         1       10000      QRIS-OTHERS   \n",
            "3     mie-kuah         makanan         3       10000             CASH   \n",
            "4     mie-kuah         makanan         2       10000         QRIS-OVO   \n",
            "5     mie-kuah         makanan         1        9000             CASH   \n",
            "6     mie-kuah         makanan         1        9000             CASH   \n",
            "7     mie-kuah         makanan         2       10000         QRIS-OVO   \n",
            "8     mie-kuah         makanan         2        9000        QRIS-DANA   \n",
            "9   mie-goreng         makanan         1        9000         QRIS-OVO   \n",
            "\n",
            "  jenis_pesanan  nilai_penjualan  \n",
            "0       Dine-In            18000  \n",
            "1      Delivery            18000  \n",
            "2      Delivery            10000  \n",
            "3       Dine-In            30000  \n",
            "4       Dine-In            20000  \n",
            "5      Delivery             9000  \n",
            "6       Dine-In             9000  \n",
            "7       Dine-In            20000  \n",
            "8       Dine-In            18000  \n",
            "9      Delivery             9000  \n"
          ]
        }
      ],
      "source": [
        "# mencetak 10 data pertama\n",
        "print('First Ten Rows of the DataFrame: \\n')\n",
        "print(df.head(10))"
      ]
    },
    {
      "cell_type": "code",
      "execution_count": 6,
      "metadata": {
        "colab": {
          "base_uri": "https://localhost:8080/"
        },
        "id": "SlSaoS7YJvDu",
        "outputId": "1a311684-13b4-438a-ff94-e3adf32f63a5"
      },
      "outputs": [
        {
          "name": "stdout",
          "output_type": "stream",
          "text": [
            "Unique Items:  18\n"
          ]
        }
      ],
      "source": [
        "print('Unique Items: ', df['nama_produk'].nunique())"
      ]
    },
    {
      "cell_type": "code",
      "execution_count": 7,
      "metadata": {
        "colab": {
          "base_uri": "https://localhost:8080/"
        },
        "id": "_o7_CqjLRKuR",
        "outputId": "c71131e0-a625-46d3-e134-f56187121987"
      },
      "outputs": [
        {
          "name": "stdout",
          "output_type": "stream",
          "text": [
            "Unique Items:  2\n"
          ]
        }
      ],
      "source": [
        "print('Unique Items: ', df['jenis_pesanan'].nunique())"
      ]
    },
    {
      "cell_type": "code",
      "execution_count": 8,
      "metadata": {
        "colab": {
          "base_uri": "https://localhost:8080/"
        },
        "id": "2xl7oCEFRZbh",
        "outputId": "3490076e-83d0-4f5e-e2c8-e0a80efb26a6"
      },
      "outputs": [
        {
          "name": "stdout",
          "output_type": "stream",
          "text": [
            "Unique Items:  6\n"
          ]
        }
      ],
      "source": [
        "print('Unique Items: ', df['jenis_pembayaran'].nunique())"
      ]
    },
    {
      "cell_type": "code",
      "execution_count": 9,
      "metadata": {
        "colab": {
          "base_uri": "https://localhost:8080/"
        },
        "id": "pATD7t8JXdwI",
        "outputId": "aebebeff-b16c-4fd0-f51d-ec19e8f484f0"
      },
      "outputs": [
        {
          "name": "stdout",
          "output_type": "stream",
          "text": [
            "Unique Items:  2\n"
          ]
        }
      ],
      "source": [
        "print('Unique Items: ', df['jenis_produk'].nunique())"
      ]
    },
    {
      "cell_type": "code",
      "execution_count": 10,
      "metadata": {
        "colab": {
          "base_uri": "https://localhost:8080/"
        },
        "id": "65doHSBGYran",
        "outputId": "e66803ee-507a-4f84-a57d-77ce5ea9695b"
      },
      "outputs": [
        {
          "name": "stdout",
          "output_type": "stream",
          "text": [
            "Unique Items:  18\n",
            "\n",
            " ['Indomie Ayam Spesial' 'Indomie Rasa Soto Betawi'\n",
            " 'Indomie Rasa Soto Padang' 'Indomie Rasa Sop Buntut' 'Indomie Baso Sapi'\n",
            " 'Indomie Soto Mie' 'Indomie Goreng Cabe Ijo' 'Indomie Goreng Aceh'\n",
            " 'Indomie Goreng Sambal Matah' 'Indomie Rasa Mi Kocok Bandung'\n",
            " 'Indomie Goreng Spesial' 'Indomie Rasa Soto Banjar Limau Kuit'\n",
            " 'Indomie Goreng Pedas' 'indomie Kari Ayam' 'Indomie Goreng Rendang'\n",
            " 'indomie Ayam Bawang' 'Indomie Rasa Soto Lamongan'\n",
            " 'Indomie Rasa Empal Gentong']\n"
          ]
        }
      ],
      "source": [
        "#Mencetak data item yang unik (memiliki nilai item berbeda)\n",
        "print('Unique Items: ', df['nama_produk'].nunique())\n",
        "print( '\\n', df['nama_produk'].unique())"
      ]
    },
    {
      "cell_type": "code",
      "execution_count": 11,
      "metadata": {
        "colab": {
          "base_uri": "https://localhost:8080/"
        },
        "id": "TQCxBdzxR8ng",
        "outputId": "1f826811-7f87-41f4-96d1-6fdee21eb133"
      },
      "outputs": [
        {
          "name": "stdout",
          "output_type": "stream",
          "text": [
            "Unique Items:  2\n",
            "\n",
            " ['Dine-In' 'Delivery']\n"
          ]
        }
      ],
      "source": [
        "#Mencetak data item yang unik (memiliki nilai item berbeda)\n",
        "print('Unique Items: ', df['jenis_pesanan'].nunique())\n",
        "print( '\\n', df['jenis_pesanan'].unique())"
      ]
    },
    {
      "cell_type": "code",
      "execution_count": 12,
      "metadata": {
        "colab": {
          "base_uri": "https://localhost:8080/"
        },
        "id": "ojfpN34QSTrp",
        "outputId": "e74f0e05-7c7a-4ffe-de10-f940137e2dfe"
      },
      "outputs": [
        {
          "name": "stdout",
          "output_type": "stream",
          "text": [
            "Unique Items:  6\n",
            "\n",
            " ['QRIS-OVO' 'CASH' 'QRIS-OTHERS' 'QRIS-DANA' 'QRIS-GOPAY' 'QRIS-SHOPEEPAY']\n"
          ]
        }
      ],
      "source": [
        "#Mencetak data item yang unik (memiliki nilai item berbeda)\n",
        "print('Unique Items: ', df['jenis_pembayaran'].nunique())\n",
        "print( '\\n', df['jenis_pembayaran'].unique())"
      ]
    },
    {
      "cell_type": "code",
      "execution_count": 13,
      "metadata": {
        "colab": {
          "base_uri": "https://localhost:8080/"
        },
        "id": "IGLgMe2hZrfA",
        "outputId": "4ae4f584-6a39-4895-b45f-a94a7f12da1b"
      },
      "outputs": [
        {
          "name": "stdout",
          "output_type": "stream",
          "text": [
            "Unique Items:  2\n",
            "\n",
            " ['mie-kuah' 'mie-goreng']\n"
          ]
        }
      ],
      "source": [
        "#Mencetak data item yang unik (memiliki nilai item berbeda)\n",
        "print('Unique Items: ', df['jenis_produk'].nunique())\n",
        "print( '\\n', df['jenis_produk'].unique())"
      ]
    },
    {
      "cell_type": "code",
      "execution_count": 14,
      "metadata": {
        "colab": {
          "base_uri": "https://localhost:8080/"
        },
        "id": "Xv_U40nzasgl",
        "outputId": "41b46ca7-de68-4acc-efc5-46eee96a1693"
      },
      "outputs": [
        {
          "name": "stdout",
          "output_type": "stream",
          "text": [
            "id                   0\n",
            "invoice_id           0\n",
            "tanggal_transaksi    0\n",
            "customer_id          0\n",
            "nama_produk          0\n",
            "jenis_produk         0\n",
            "kategori_produk      0\n",
            "quantity             0\n",
            "harga_jual           0\n",
            "jenis_pembayaran     0\n",
            "jenis_pesanan        0\n",
            "nilai_penjualan      0\n",
            "dtype: int64\n"
          ]
        }
      ],
      "source": [
        "# Cek missing value dan zeros\n",
        "print(df.isnull().sum().sort_values(ascending=False))"
      ]
    },
    {
      "cell_type": "code",
      "execution_count": 15,
      "metadata": {
        "colab": {
          "base_uri": "https://localhost:8080/"
        },
        "id": "rPSVH7n1asdz",
        "outputId": "f064d8ec-ddd1-4466-efc6-43a2401e6a1b"
      },
      "outputs": [
        {
          "name": "stdout",
          "output_type": "stream",
          "text": [
            "Empty DataFrame\n",
            "Columns: [id, invoice_id, tanggal_transaksi, customer_id, nama_produk, jenis_produk, kategori_produk, quantity, harga_jual, jenis_pembayaran, jenis_pesanan, nilai_penjualan]\n",
            "Index: []\n"
          ]
        }
      ],
      "source": [
        "# cek nilai \"NONE\" pada kolom nama_produk\n",
        "print(df[df['nama_produk']=='NONE'])"
      ]
    },
    {
      "cell_type": "code",
      "execution_count": 16,
      "metadata": {
        "colab": {
          "base_uri": "https://localhost:8080/"
        },
        "id": "LopddLXRS__6",
        "outputId": "870747fb-a90f-4723-f37b-d41322c0d815"
      },
      "outputs": [
        {
          "name": "stdout",
          "output_type": "stream",
          "text": [
            "Empty DataFrame\n",
            "Columns: [id, invoice_id, tanggal_transaksi, customer_id, nama_produk, jenis_produk, kategori_produk, quantity, harga_jual, jenis_pembayaran, jenis_pesanan, nilai_penjualan]\n",
            "Index: []\n"
          ]
        }
      ],
      "source": [
        "# cek nilai \"NONE\" pada kolom nama_produk\n",
        "print(df[df['jenis_pembayaran']=='NONE'])"
      ]
    },
    {
      "cell_type": "code",
      "execution_count": 17,
      "metadata": {
        "colab": {
          "base_uri": "https://localhost:8080/"
        },
        "id": "D7GUo046TNrz",
        "outputId": "10ec251c-bcb8-45f6-f821-40f69dabcf1f"
      },
      "outputs": [
        {
          "name": "stdout",
          "output_type": "stream",
          "text": [
            "Empty DataFrame\n",
            "Columns: [id, invoice_id, tanggal_transaksi, customer_id, nama_produk, jenis_produk, kategori_produk, quantity, harga_jual, jenis_pembayaran, jenis_pesanan, nilai_penjualan]\n",
            "Index: []\n"
          ]
        }
      ],
      "source": [
        "# cek nilai \"NONE\" pada kolom nama_produk\n",
        "print(df[df['jenis_pesanan']=='NONE'])"
      ]
    },
    {
      "cell_type": "code",
      "execution_count": 18,
      "metadata": {
        "colab": {
          "base_uri": "https://localhost:8080/"
        },
        "id": "nIJBPxcpZ0AQ",
        "outputId": "df940a4e-fc36-4815-c3c1-03e2484cc767"
      },
      "outputs": [
        {
          "name": "stdout",
          "output_type": "stream",
          "text": [
            "Empty DataFrame\n",
            "Columns: [id, invoice_id, tanggal_transaksi, customer_id, nama_produk, jenis_produk, kategori_produk, quantity, harga_jual, jenis_pembayaran, jenis_pesanan, nilai_penjualan]\n",
            "Index: []\n"
          ]
        }
      ],
      "source": [
        "# cek nilai \"NONE\" pada kolom nama_produk\n",
        "print(df[df['jenis_produk']=='NONE'])"
      ]
    },
    {
      "cell_type": "code",
      "execution_count": 19,
      "metadata": {
        "id": "gPWL1Sq-asbF"
      },
      "outputs": [],
      "source": [
        "# menghapus baris dengan nilai Item = None\n",
        "df.drop(df[df['nama_produk']=='NONE'].index, inplace=True)"
      ]
    },
    {
      "cell_type": "code",
      "execution_count": 20,
      "metadata": {
        "collapsed": true,
        "id": "kc8QwGUKXaBE"
      },
      "outputs": [],
      "source": [
        "# menghapus baris dengan nilai Item = None\n",
        "df.drop(df[df['jenis_pesanan']=='NONE'].index, inplace=True)"
      ]
    },
    {
      "cell_type": "code",
      "execution_count": 21,
      "metadata": {
        "id": "pfA3tAuyXjg4"
      },
      "outputs": [],
      "source": [
        "# menghapus baris dengan nilai Item = None\n",
        "df.drop(df[df['jenis_pembayaran']=='NONE'].index, inplace=True)"
      ]
    },
    {
      "cell_type": "code",
      "execution_count": 22,
      "metadata": {
        "id": "jbLi8ca-Z4Mq"
      },
      "outputs": [],
      "source": [
        "# menghapus baris dengan nilai Item = None\n",
        "df.drop(df[df['jenis_produk']=='NONE'].index, inplace=True)"
      ]
    },
    {
      "cell_type": "code",
      "execution_count": 23,
      "metadata": {
        "colab": {
          "base_uri": "https://localhost:8080/"
        },
        "id": "zLG1ebstasYd",
        "outputId": "5488dc85-60a7-4ee3-ea9b-0c17b1be511e"
      },
      "outputs": [
        {
          "name": "stdout",
          "output_type": "stream",
          "text": [
            "<class 'pandas.core.frame.DataFrame'>\n",
            "RangeIndex: 499 entries, 0 to 498\n",
            "Data columns (total 12 columns):\n",
            " #   Column             Non-Null Count  Dtype \n",
            "---  ------             --------------  ----- \n",
            " 0   id                 499 non-null    int64 \n",
            " 1   invoice_id         499 non-null    int64 \n",
            " 2   tanggal_transaksi  499 non-null    object\n",
            " 3   customer_id        499 non-null    int64 \n",
            " 4   nama_produk        499 non-null    object\n",
            " 5   jenis_produk       499 non-null    object\n",
            " 6   kategori_produk    499 non-null    object\n",
            " 7   quantity           499 non-null    int64 \n",
            " 8   harga_jual         499 non-null    int64 \n",
            " 9   jenis_pembayaran   499 non-null    object\n",
            " 10  jenis_pesanan      499 non-null    object\n",
            " 11  nilai_penjualan    499 non-null    int64 \n",
            "dtypes: int64(6), object(6)\n",
            "memory usage: 46.9+ KB\n",
            "None\n"
          ]
        }
      ],
      "source": [
        "# cek perubahan yang terjadi\n",
        "print(df.info())"
      ]
    },
    {
      "cell_type": "code",
      "execution_count": 24,
      "metadata": {
        "colab": {
          "base_uri": "https://localhost:8080/",
          "height": 458
        },
        "id": "FO82HVZYjmii",
        "outputId": "639c2136-50ca-4607-c841-99147d7ee876"
      },
      "outputs": [
        {
          "data": {
            "text/html": [
              "<div>\n",
              "<style scoped>\n",
              "    .dataframe tbody tr th:only-of-type {\n",
              "        vertical-align: middle;\n",
              "    }\n",
              "\n",
              "    .dataframe tbody tr th {\n",
              "        vertical-align: top;\n",
              "    }\n",
              "\n",
              "    .dataframe thead th {\n",
              "        text-align: right;\n",
              "    }\n",
              "</style>\n",
              "<table border=\"1\" class=\"dataframe\">\n",
              "  <thead>\n",
              "    <tr style=\"text-align: right;\">\n",
              "      <th></th>\n",
              "      <th>id</th>\n",
              "      <th>invoice_id</th>\n",
              "      <th>tanggal_transaksi</th>\n",
              "      <th>customer_id</th>\n",
              "      <th>nama_produk</th>\n",
              "      <th>jenis_produk</th>\n",
              "      <th>kategori_produk</th>\n",
              "      <th>quantity</th>\n",
              "      <th>harga_jual</th>\n",
              "      <th>jenis_pembayaran</th>\n",
              "      <th>jenis_pesanan</th>\n",
              "      <th>nilai_penjualan</th>\n",
              "    </tr>\n",
              "  </thead>\n",
              "  <tbody>\n",
              "    <tr>\n",
              "      <th>0</th>\n",
              "      <td>1</td>\n",
              "      <td>1</td>\n",
              "      <td>11-04-2022</td>\n",
              "      <td>44</td>\n",
              "      <td>Indomie Ayam Spesial</td>\n",
              "      <td>mie-kuah</td>\n",
              "      <td>makanan</td>\n",
              "      <td>2</td>\n",
              "      <td>9000</td>\n",
              "      <td>QRIS-OVO</td>\n",
              "      <td>Dine-In</td>\n",
              "      <td>18000</td>\n",
              "    </tr>\n",
              "    <tr>\n",
              "      <th>1</th>\n",
              "      <td>2</td>\n",
              "      <td>2</td>\n",
              "      <td>01-08-2022</td>\n",
              "      <td>10</td>\n",
              "      <td>Indomie Ayam Spesial</td>\n",
              "      <td>mie-kuah</td>\n",
              "      <td>makanan</td>\n",
              "      <td>2</td>\n",
              "      <td>9000</td>\n",
              "      <td>CASH</td>\n",
              "      <td>Delivery</td>\n",
              "      <td>18000</td>\n",
              "    </tr>\n",
              "    <tr>\n",
              "      <th>2</th>\n",
              "      <td>3</td>\n",
              "      <td>3</td>\n",
              "      <td>03-04-2022</td>\n",
              "      <td>62</td>\n",
              "      <td>Indomie Rasa Soto Betawi</td>\n",
              "      <td>mie-kuah</td>\n",
              "      <td>makanan</td>\n",
              "      <td>1</td>\n",
              "      <td>10000</td>\n",
              "      <td>QRIS-OTHERS</td>\n",
              "      <td>Delivery</td>\n",
              "      <td>10000</td>\n",
              "    </tr>\n",
              "    <tr>\n",
              "      <th>3</th>\n",
              "      <td>4</td>\n",
              "      <td>4</td>\n",
              "      <td>19-03-2022</td>\n",
              "      <td>48</td>\n",
              "      <td>Indomie Rasa Soto Padang</td>\n",
              "      <td>mie-kuah</td>\n",
              "      <td>makanan</td>\n",
              "      <td>3</td>\n",
              "      <td>10000</td>\n",
              "      <td>CASH</td>\n",
              "      <td>Dine-In</td>\n",
              "      <td>30000</td>\n",
              "    </tr>\n",
              "    <tr>\n",
              "      <th>4</th>\n",
              "      <td>5</td>\n",
              "      <td>5</td>\n",
              "      <td>29-04-2022</td>\n",
              "      <td>87</td>\n",
              "      <td>Indomie Rasa Sop Buntut</td>\n",
              "      <td>mie-kuah</td>\n",
              "      <td>makanan</td>\n",
              "      <td>2</td>\n",
              "      <td>10000</td>\n",
              "      <td>QRIS-OVO</td>\n",
              "      <td>Dine-In</td>\n",
              "      <td>20000</td>\n",
              "    </tr>\n",
              "    <tr>\n",
              "      <th>...</th>\n",
              "      <td>...</td>\n",
              "      <td>...</td>\n",
              "      <td>...</td>\n",
              "      <td>...</td>\n",
              "      <td>...</td>\n",
              "      <td>...</td>\n",
              "      <td>...</td>\n",
              "      <td>...</td>\n",
              "      <td>...</td>\n",
              "      <td>...</td>\n",
              "      <td>...</td>\n",
              "      <td>...</td>\n",
              "    </tr>\n",
              "    <tr>\n",
              "      <th>494</th>\n",
              "      <td>495</td>\n",
              "      <td>495</td>\n",
              "      <td>17-05-2022</td>\n",
              "      <td>11</td>\n",
              "      <td>Indomie Baso Sapi</td>\n",
              "      <td>mie-kuah</td>\n",
              "      <td>makanan</td>\n",
              "      <td>1</td>\n",
              "      <td>9000</td>\n",
              "      <td>CASH</td>\n",
              "      <td>Delivery</td>\n",
              "      <td>9000</td>\n",
              "    </tr>\n",
              "    <tr>\n",
              "      <th>495</th>\n",
              "      <td>496</td>\n",
              "      <td>496</td>\n",
              "      <td>06-06-2022</td>\n",
              "      <td>55</td>\n",
              "      <td>Indomie Goreng Spesial</td>\n",
              "      <td>mie-goreng</td>\n",
              "      <td>makanan</td>\n",
              "      <td>1</td>\n",
              "      <td>9000</td>\n",
              "      <td>QRIS-GOPAY</td>\n",
              "      <td>Delivery</td>\n",
              "      <td>9000</td>\n",
              "    </tr>\n",
              "    <tr>\n",
              "      <th>496</th>\n",
              "      <td>497</td>\n",
              "      <td>497</td>\n",
              "      <td>14-07-2022</td>\n",
              "      <td>25</td>\n",
              "      <td>Indomie Goreng Rendang</td>\n",
              "      <td>mie-goreng</td>\n",
              "      <td>makanan</td>\n",
              "      <td>2</td>\n",
              "      <td>9000</td>\n",
              "      <td>QRIS-GOPAY</td>\n",
              "      <td>Delivery</td>\n",
              "      <td>18000</td>\n",
              "    </tr>\n",
              "    <tr>\n",
              "      <th>497</th>\n",
              "      <td>498</td>\n",
              "      <td>498</td>\n",
              "      <td>22-08-2022</td>\n",
              "      <td>39</td>\n",
              "      <td>Indomie Goreng Pedas</td>\n",
              "      <td>mie-goreng</td>\n",
              "      <td>makanan</td>\n",
              "      <td>2</td>\n",
              "      <td>9000</td>\n",
              "      <td>QRIS-DANA</td>\n",
              "      <td>Delivery</td>\n",
              "      <td>18000</td>\n",
              "    </tr>\n",
              "    <tr>\n",
              "      <th>498</th>\n",
              "      <td>499</td>\n",
              "      <td>499</td>\n",
              "      <td>21-06-2022</td>\n",
              "      <td>79</td>\n",
              "      <td>Indomie Soto Mie</td>\n",
              "      <td>mie-kuah</td>\n",
              "      <td>makanan</td>\n",
              "      <td>1</td>\n",
              "      <td>9000</td>\n",
              "      <td>QRIS-OVO</td>\n",
              "      <td>Dine-In</td>\n",
              "      <td>9000</td>\n",
              "    </tr>\n",
              "  </tbody>\n",
              "</table>\n",
              "<p>499 rows × 12 columns</p>\n",
              "</div>"
            ],
            "text/plain": [
              "      id  invoice_id tanggal_transaksi  customer_id               nama_produk  \\\n",
              "0      1           1        11-04-2022           44      Indomie Ayam Spesial   \n",
              "1      2           2        01-08-2022           10      Indomie Ayam Spesial   \n",
              "2      3           3        03-04-2022           62  Indomie Rasa Soto Betawi   \n",
              "3      4           4        19-03-2022           48  Indomie Rasa Soto Padang   \n",
              "4      5           5        29-04-2022           87   Indomie Rasa Sop Buntut   \n",
              "..   ...         ...               ...          ...                       ...   \n",
              "494  495         495        17-05-2022           11         Indomie Baso Sapi   \n",
              "495  496         496        06-06-2022           55    Indomie Goreng Spesial   \n",
              "496  497         497        14-07-2022           25    Indomie Goreng Rendang   \n",
              "497  498         498        22-08-2022           39      Indomie Goreng Pedas   \n",
              "498  499         499        21-06-2022           79          Indomie Soto Mie   \n",
              "\n",
              "    jenis_produk kategori_produk  quantity  harga_jual jenis_pembayaran  \\\n",
              "0       mie-kuah         makanan         2        9000         QRIS-OVO   \n",
              "1       mie-kuah         makanan         2        9000             CASH   \n",
              "2       mie-kuah         makanan         1       10000      QRIS-OTHERS   \n",
              "3       mie-kuah         makanan         3       10000             CASH   \n",
              "4       mie-kuah         makanan         2       10000         QRIS-OVO   \n",
              "..           ...             ...       ...         ...              ...   \n",
              "494     mie-kuah         makanan         1        9000             CASH   \n",
              "495   mie-goreng         makanan         1        9000       QRIS-GOPAY   \n",
              "496   mie-goreng         makanan         2        9000       QRIS-GOPAY   \n",
              "497   mie-goreng         makanan         2        9000        QRIS-DANA   \n",
              "498     mie-kuah         makanan         1        9000         QRIS-OVO   \n",
              "\n",
              "    jenis_pesanan  nilai_penjualan  \n",
              "0         Dine-In            18000  \n",
              "1        Delivery            18000  \n",
              "2        Delivery            10000  \n",
              "3         Dine-In            30000  \n",
              "4         Dine-In            20000  \n",
              "..            ...              ...  \n",
              "494      Delivery             9000  \n",
              "495      Delivery             9000  \n",
              "496      Delivery            18000  \n",
              "497      Delivery            18000  \n",
              "498       Dine-In             9000  \n",
              "\n",
              "[499 rows x 12 columns]"
            ]
          },
          "execution_count": 24,
          "metadata": {},
          "output_type": "execute_result"
        }
      ],
      "source": [
        "# Convert the 'tanggal_transaksi' column to datetime format with the desired format\n",
        "df['tanggal_transaksi'] = pd.to_datetime(df['tanggal_transaksi'], format='%m/%d/%y').dt.strftime('%d-%m-%Y')\n",
        "df"
      ]
    },
    {
      "cell_type": "code",
      "execution_count": null,
      "metadata": {
        "cellView": "form",
        "colab": {
          "base_uri": "https://localhost:8080/",
          "height": 430
        },
        "id": "dExdVozrnpwO",
        "outputId": "d3379230-36a2-4e5b-f3c3-2ef8991d02ab"
      },
      "outputs": [
        {
          "data": {
            "image/png": "[encoded data removed]",
            "text/plain": [
              "<Figure size 640x480 with 1 Axes>"
            ]
          },
          "metadata": {},
          "output_type": "display_data"
        }
      ],
      "source": [
        "# @title jenis_produk\n",
        "\n",
        "from matplotlib import pyplot as plt\n",
        "import seaborn as sns\n",
        "df.groupby('jenis_produk').size().plot(kind='barh', color=sns.palettes.mpl_palette('Dark2'))\n",
        "plt.gca().spines[['top', 'right',]].set_visible(False)"
      ]
    },
    {
      "cell_type": "code",
      "execution_count": null,
      "metadata": {
        "cellView": "form",
        "colab": {
          "base_uri": "https://localhost:8080/",
          "height": 430
        },
        "id": "EJgNAhPGnR-0",
        "outputId": "43ff1d76-3591-4963-e06e-0d626825f673"
      },
      "outputs": [
        {
          "data": {
            "image/png": "[encoded data removed]",
            "text/plain": [
              "<Figure size 640x480 with 1 Axes>"
            ]
          },
          "metadata": {},
          "output_type": "display_data"
        }
      ],
      "source": [
        "# @title jenis_pembayaran\n",
        "\n",
        "from matplotlib import pyplot as plt\n",
        "import seaborn as sns\n",
        "df.groupby('jenis_pembayaran').size().plot(kind='barh', color=sns.palettes.mpl_palette('Dark2'))\n",
        "plt.gca().spines[['top', 'right',]].set_visible(False)"
      ]
    },
    {
      "cell_type": "code",
      "execution_count": 25,
      "metadata": {
        "colab": {
          "base_uri": "https://localhost:8080/",
          "height": 365
        },
        "id": "RRlYdiWzlIcS",
        "outputId": "6f04f8f0-182d-467b-cd4d-002a8a710b87"
      },
      "outputs": [
        {
          "data": {
            "text/html": [
              "<div>\n",
              "<style scoped>\n",
              "    .dataframe tbody tr th:only-of-type {\n",
              "        vertical-align: middle;\n",
              "    }\n",
              "\n",
              "    .dataframe tbody tr th {\n",
              "        vertical-align: top;\n",
              "    }\n",
              "\n",
              "    .dataframe thead th {\n",
              "        text-align: right;\n",
              "    }\n",
              "</style>\n",
              "<table border=\"1\" class=\"dataframe\">\n",
              "  <thead>\n",
              "    <tr style=\"text-align: right;\">\n",
              "      <th></th>\n",
              "      <th>id</th>\n",
              "      <th>invoice_id</th>\n",
              "      <th>tanggal_transaksi</th>\n",
              "      <th>customer_id</th>\n",
              "      <th>nama_produk</th>\n",
              "      <th>jenis_produk</th>\n",
              "      <th>kategori_produk</th>\n",
              "      <th>quantity</th>\n",
              "      <th>harga_jual</th>\n",
              "      <th>jenis_pembayaran</th>\n",
              "      <th>jenis_pesanan</th>\n",
              "      <th>nilai_penjualan</th>\n",
              "      <th>hari</th>\n",
              "      <th>bulan</th>\n",
              "      <th>tahun</th>\n",
              "    </tr>\n",
              "  </thead>\n",
              "  <tbody>\n",
              "    <tr>\n",
              "      <th>142</th>\n",
              "      <td>143</td>\n",
              "      <td>143</td>\n",
              "      <td>18-05-2022</td>\n",
              "      <td>34</td>\n",
              "      <td>Indomie Baso Sapi</td>\n",
              "      <td>mie-kuah</td>\n",
              "      <td>makanan</td>\n",
              "      <td>2</td>\n",
              "      <td>9000</td>\n",
              "      <td>QRIS-OTHERS</td>\n",
              "      <td>Delivery</td>\n",
              "      <td>18000</td>\n",
              "      <td>18</td>\n",
              "      <td>05</td>\n",
              "      <td>2022</td>\n",
              "    </tr>\n",
              "    <tr>\n",
              "      <th>37</th>\n",
              "      <td>38</td>\n",
              "      <td>38</td>\n",
              "      <td>09-02-2022</td>\n",
              "      <td>14</td>\n",
              "      <td>indomie Ayam Bawang</td>\n",
              "      <td>mie-kuah</td>\n",
              "      <td>makanan</td>\n",
              "      <td>2</td>\n",
              "      <td>9000</td>\n",
              "      <td>QRIS-DANA</td>\n",
              "      <td>Dine-In</td>\n",
              "      <td>18000</td>\n",
              "      <td>09</td>\n",
              "      <td>02</td>\n",
              "      <td>2022</td>\n",
              "    </tr>\n",
              "    <tr>\n",
              "      <th>150</th>\n",
              "      <td>151</td>\n",
              "      <td>151</td>\n",
              "      <td>20-03-2022</td>\n",
              "      <td>90</td>\n",
              "      <td>Indomie Goreng Sambal Matah</td>\n",
              "      <td>mie-goreng</td>\n",
              "      <td>makanan</td>\n",
              "      <td>3</td>\n",
              "      <td>9000</td>\n",
              "      <td>QRIS-OTHERS</td>\n",
              "      <td>Dine-In</td>\n",
              "      <td>27000</td>\n",
              "      <td>20</td>\n",
              "      <td>03</td>\n",
              "      <td>2022</td>\n",
              "    </tr>\n",
              "    <tr>\n",
              "      <th>55</th>\n",
              "      <td>56</td>\n",
              "      <td>56</td>\n",
              "      <td>28-07-2022</td>\n",
              "      <td>23</td>\n",
              "      <td>Indomie Rasa Empal Gentong</td>\n",
              "      <td>mie-kuah</td>\n",
              "      <td>makanan</td>\n",
              "      <td>1</td>\n",
              "      <td>10000</td>\n",
              "      <td>QRIS-SHOPEEPAY</td>\n",
              "      <td>Delivery</td>\n",
              "      <td>10000</td>\n",
              "      <td>28</td>\n",
              "      <td>07</td>\n",
              "      <td>2022</td>\n",
              "    </tr>\n",
              "    <tr>\n",
              "      <th>247</th>\n",
              "      <td>248</td>\n",
              "      <td>248</td>\n",
              "      <td>13-04-2022</td>\n",
              "      <td>22</td>\n",
              "      <td>Indomie Rasa Soto Betawi</td>\n",
              "      <td>mie-kuah</td>\n",
              "      <td>makanan</td>\n",
              "      <td>3</td>\n",
              "      <td>10000</td>\n",
              "      <td>QRIS-SHOPEEPAY</td>\n",
              "      <td>Dine-In</td>\n",
              "      <td>30000</td>\n",
              "      <td>13</td>\n",
              "      <td>04</td>\n",
              "      <td>2022</td>\n",
              "    </tr>\n",
              "  </tbody>\n",
              "</table>\n",
              "</div>"
            ],
            "text/plain": [
              "      id  invoice_id tanggal_transaksi  customer_id  \\\n",
              "142  143         143        18-05-2022           34   \n",
              "37    38          38        09-02-2022           14   \n",
              "150  151         151        20-03-2022           90   \n",
              "55    56          56        28-07-2022           23   \n",
              "247  248         248        13-04-2022           22   \n",
              "\n",
              "                     nama_produk jenis_produk kategori_produk  quantity  \\\n",
              "142            Indomie Baso Sapi     mie-kuah         makanan         2   \n",
              "37           indomie Ayam Bawang     mie-kuah         makanan         2   \n",
              "150  Indomie Goreng Sambal Matah   mie-goreng         makanan         3   \n",
              "55    Indomie Rasa Empal Gentong     mie-kuah         makanan         1   \n",
              "247     Indomie Rasa Soto Betawi     mie-kuah         makanan         3   \n",
              "\n",
              "     harga_jual jenis_pembayaran jenis_pesanan  nilai_penjualan hari bulan  \\\n",
              "142        9000      QRIS-OTHERS      Delivery            18000   18    05   \n",
              "37         9000        QRIS-DANA       Dine-In            18000   09    02   \n",
              "150        9000      QRIS-OTHERS       Dine-In            27000   20    03   \n",
              "55        10000   QRIS-SHOPEEPAY      Delivery            10000   28    07   \n",
              "247       10000   QRIS-SHOPEEPAY       Dine-In            30000   13    04   \n",
              "\n",
              "    tahun  \n",
              "142  2022  \n",
              "37   2022  \n",
              "150  2022  \n",
              "55   2022  \n",
              "247  2022  "
            ]
          },
          "execution_count": 25,
          "metadata": {},
          "output_type": "execute_result"
        }
      ],
      "source": [
        "# Year (ingat kembali penulisan function lambda)\n",
        "# Pisahkan kolom tanggal_transaksi berdasarkan Hari, Bulan dan Tahun\n",
        "#df['Year'] = df['tanggal_transaksi'].apply(lambda x: x.split(\"-\")[2] if len(x.split(\"-\")) > 2 else None)\n",
        "df[[\"hari\", \"bulan\", \"tahun\"]] = df[\"tanggal_transaksi\"].str.split(\"-\", expand=True)\n",
        "df.sample(5)"
      ]
    },
    {
      "cell_type": "code",
      "execution_count": 26,
      "metadata": {
        "colab": {
          "base_uri": "https://localhost:8080/"
        },
        "id": "moVe_IRBlQ-T",
        "outputId": "5f98ef25-8008-4cb7-e49b-edfab65334cc"
      },
      "outputs": [
        {
          "name": "stdout",
          "output_type": "stream",
          "text": [
            "<class 'pandas.core.frame.DataFrame'>\n",
            "RangeIndex: 499 entries, 0 to 498\n",
            "Data columns (total 15 columns):\n",
            " #   Column             Non-Null Count  Dtype \n",
            "---  ------             --------------  ----- \n",
            " 0   id                 499 non-null    int64 \n",
            " 1   invoice_id         499 non-null    int64 \n",
            " 2   tanggal_transaksi  499 non-null    object\n",
            " 3   customer_id        499 non-null    int64 \n",
            " 4   nama_produk        499 non-null    object\n",
            " 5   jenis_produk       499 non-null    object\n",
            " 6   kategori_produk    499 non-null    object\n",
            " 7   quantity           499 non-null    int64 \n",
            " 8   harga_jual         499 non-null    int64 \n",
            " 9   jenis_pembayaran   499 non-null    object\n",
            " 10  jenis_pesanan      499 non-null    object\n",
            " 11  nilai_penjualan    499 non-null    int64 \n",
            " 12  hari               499 non-null    object\n",
            " 13  bulan              499 non-null    object\n",
            " 14  tahun              499 non-null    object\n",
            "dtypes: int64(6), object(9)\n",
            "memory usage: 58.6+ KB\n",
            "None\n",
            "   id  invoice_id tanggal_transaksi  customer_id               nama_produk  \\\n",
            "0   1           1        11-04-2022           44      Indomie Ayam Spesial   \n",
            "1   2           2        01-08-2022           10      Indomie Ayam Spesial   \n",
            "2   3           3        03-04-2022           62  Indomie Rasa Soto Betawi   \n",
            "3   4           4        19-03-2022           48  Indomie Rasa Soto Padang   \n",
            "4   5           5        29-04-2022           87   Indomie Rasa Sop Buntut   \n",
            "\n",
            "  jenis_produk kategori_produk  quantity  harga_jual jenis_pembayaran  \\\n",
            "0     mie-kuah         makanan         2        9000         QRIS-OVO   \n",
            "1     mie-kuah         makanan         2        9000             CASH   \n",
            "2     mie-kuah         makanan         1       10000      QRIS-OTHERS   \n",
            "3     mie-kuah         makanan         3       10000             CASH   \n",
            "4     mie-kuah         makanan         2       10000         QRIS-OVO   \n",
            "\n",
            "  jenis_pesanan  nilai_penjualan hari bulan tahun  \n",
            "0       Dine-In            18000   11    04  2022  \n",
            "1      Delivery            18000   01    08  2022  \n",
            "2      Delivery            10000   03    04  2022  \n",
            "3       Dine-In            30000   19    03  2022  \n",
            "4       Dine-In            20000   29    04  2022  \n"
          ]
        }
      ],
      "source": [
        "# cek kembali perubahan yang terjadi setelah nilai tahun, bulan dan hari ditampung di fitur baru (year, month, day)\n",
        "print(df.info())\n",
        "print(df.head())"
      ]
    },
    {
      "cell_type": "markdown",
      "metadata": {
        "id": "wyge9sJWtyZk"
      },
      "source": [
        "## **4. Visualisasi dan Memahami Data**\n",
        "Kita tahu bahwa dataset ini direkam dari 01/01/2022 hingga 08/30/2022. Sebelum kita masuk dalam pemodelan, kita harus mengeksplorasi dan memvisualisasikan penjualan dalam periode waktu ini. Barang apa yang paling banyak dibeli pelanggan? Bulan mana yang lebih sukses? Mari kita jawab ini secara visual.\n"
      ]
    },
    {
      "cell_type": "code",
      "execution_count": 27,
      "metadata": {
        "colab": {
          "base_uri": "https://localhost:8080/"
        },
        "id": "FgqnpnOzrTXp",
        "outputId": "e6515bc9-da7d-4e7f-a057-cd94cdc88b86"
      },
      "outputs": [
        {
          "name": "stdout",
          "output_type": "stream",
          "text": [
            "Most Sold Items: \n",
            "\n",
            "nama_produk\n",
            "Indomie Rasa Soto Banjar Limau Kuit    41\n",
            "Indomie Rasa Soto Betawi               40\n",
            "indomie Kari Ayam                      33\n",
            "Indomie Rasa Empal Gentong             31\n",
            "Indomie Goreng Cabe Ijo                31\n",
            "Indomie Rasa Mi Kocok Bandung          29\n",
            "Indomie Goreng Pedas                   28\n",
            "Indomie Rasa Soto Lamongan             28\n",
            "Indomie Baso Sapi                      26\n",
            "Indomie Goreng Spesial                 25\n",
            "Indomie Rasa Sop Buntut                25\n",
            "Indomie Rasa Soto Padang               25\n",
            "indomie Ayam Bawang                    25\n",
            "Indomie Ayam Spesial                   25\n",
            "Indomie Goreng Aceh                    23\n",
            "Indomie Goreng Sambal Matah            23\n",
            "Indomie Soto Mie                       21\n",
            "Indomie Goreng Rendang                 20\n",
            "Name: count, dtype: int64\n"
          ]
        }
      ],
      "source": [
        "# Mencetak 20 data penjualan item terbanyak\n",
        "most_sold = df['nama_produk'].value_counts().head(20)\n",
        "\n",
        "print('Most Sold Items: \\n')\n",
        "print(most_sold)"
      ]
    },
    {
      "cell_type": "code",
      "execution_count": 28,
      "metadata": {
        "colab": {
          "base_uri": "https://localhost:8080/"
        },
        "id": "8pm58beYTkX8",
        "outputId": "973016cd-236f-4f9f-e949-1ebb9c27cca6"
      },
      "outputs": [
        {
          "name": "stdout",
          "output_type": "stream",
          "text": [
            "Most Payment Use: \n",
            "\n",
            "jenis_pembayaran\n",
            "CASH              100\n",
            "QRIS-GOPAY         89\n",
            "QRIS-OVO           87\n",
            "QRIS-DANA          81\n",
            "QRIS-OTHERS        76\n",
            "QRIS-SHOPEEPAY     66\n",
            "Name: count, dtype: int64\n"
          ]
        }
      ],
      "source": [
        "# Mencetak 6 data penjualan item terbanyak\n",
        "most_use = df['jenis_pembayaran'].value_counts().head(6)\n",
        "\n",
        "print('Most Payment Use: \\n')\n",
        "print(most_use)"
      ]
    },
    {
      "cell_type": "code",
      "execution_count": 29,
      "metadata": {
        "colab": {
          "base_uri": "https://localhost:8080/"
        },
        "id": "fjTlA44WTz65",
        "outputId": "76a66a87-579f-4985-aeea-d7fc67f90746"
      },
      "outputs": [
        {
          "name": "stdout",
          "output_type": "stream",
          "text": [
            "Most Order Type: \n",
            "\n",
            "jenis_pesanan\n",
            "Dine-In     258\n",
            "Delivery    241\n",
            "Name: count, dtype: int64\n"
          ]
        }
      ],
      "source": [
        "# Mencetak 6 data penjualan item terbanyak\n",
        "most_order = df['jenis_pesanan'].value_counts().head(2)\n",
        "\n",
        "print('Most Order Type: \\n')\n",
        "print(most_order)"
      ]
    },
    {
      "cell_type": "code",
      "execution_count": 30,
      "metadata": {
        "colab": {
          "base_uri": "https://localhost:8080/"
        },
        "id": "KR2HNCukbVW_",
        "outputId": "1580cb86-4f5a-49a2-9f64-aec8f73081b0"
      },
      "outputs": [
        {
          "name": "stdout",
          "output_type": "stream",
          "text": [
            "Most Food Order Type: \n",
            "\n",
            "jenis_produk\n",
            "mie-kuah      349\n",
            "mie-goreng    150\n",
            "Name: count, dtype: int64\n"
          ]
        }
      ],
      "source": [
        "# Mencetak 6 data penjualan item terbanyak\n",
        "most_food_order = df['jenis_produk'].value_counts().head(2)\n",
        "\n",
        "print('Most Food Order Type: \\n')\n",
        "print(most_food_order)"
      ]
    },
    {
      "cell_type": "code",
      "execution_count": 31,
      "metadata": {
        "colab": {
          "base_uri": "https://localhost:8080/",
          "height": 237
        },
        "id": "SM5G3gbbv2jC",
        "outputId": "e58687bf-5e14-4be0-948d-28416851dbdd"
      },
      "outputs": [
        {
          "data": {
            "text/html": [
              "<div>\n",
              "<style scoped>\n",
              "    .dataframe tbody tr th:only-of-type {\n",
              "        vertical-align: middle;\n",
              "    }\n",
              "\n",
              "    .dataframe tbody tr th {\n",
              "        vertical-align: top;\n",
              "    }\n",
              "\n",
              "    .dataframe thead th {\n",
              "        text-align: right;\n",
              "    }\n",
              "</style>\n",
              "<table border=\"1\" class=\"dataframe\">\n",
              "  <thead>\n",
              "    <tr style=\"text-align: right;\">\n",
              "      <th></th>\n",
              "      <th>invoice_id</th>\n",
              "    </tr>\n",
              "    <tr>\n",
              "      <th>nama_produk</th>\n",
              "      <th></th>\n",
              "    </tr>\n",
              "  </thead>\n",
              "  <tbody>\n",
              "    <tr>\n",
              "      <th>Indomie Rasa Soto Banjar Limau Kuit</th>\n",
              "      <td>8.216433</td>\n",
              "    </tr>\n",
              "    <tr>\n",
              "      <th>Indomie Rasa Soto Betawi</th>\n",
              "      <td>8.016032</td>\n",
              "    </tr>\n",
              "    <tr>\n",
              "      <th>indomie Kari Ayam</th>\n",
              "      <td>6.613226</td>\n",
              "    </tr>\n",
              "    <tr>\n",
              "      <th>Indomie Rasa Empal Gentong</th>\n",
              "      <td>6.212425</td>\n",
              "    </tr>\n",
              "    <tr>\n",
              "      <th>Indomie Goreng Cabe Ijo</th>\n",
              "      <td>6.212425</td>\n",
              "    </tr>\n",
              "  </tbody>\n",
              "</table>\n",
              "</div>"
            ],
            "text/plain": [
              "                                     invoice_id\n",
              "nama_produk                                    \n",
              "Indomie Rasa Soto Banjar Limau Kuit    8.216433\n",
              "Indomie Rasa Soto Betawi               8.016032\n",
              "indomie Kari Ayam                      6.613226\n",
              "Indomie Rasa Empal Gentong             6.212425\n",
              "Indomie Goreng Cabe Ijo                6.212425"
            ]
          },
          "execution_count": 31,
          "metadata": {},
          "output_type": "execute_result"
        }
      ],
      "source": [
        "transaction_count = df.groupby(by='nama_produk')[['invoice_id']].count().sort_values(by='invoice_id', ascending=False)\n",
        "def convert_to_percentage(x):\n",
        "    return 100 * x / float(x.sum())\n",
        "\n",
        "transaction_percentage = transaction_count.apply(convert_to_percentage)\n",
        "transaction_percentage.head()"
      ]
    },
    {
      "cell_type": "code",
      "execution_count": 32,
      "metadata": {
        "colab": {
          "base_uri": "https://localhost:8080/",
          "height": 237
        },
        "id": "4aurxl_PWweT",
        "outputId": "759e3520-5495-4c6c-afc3-519834c1d5a6"
      },
      "outputs": [
        {
          "data": {
            "text/html": [
              "<div>\n",
              "<style scoped>\n",
              "    .dataframe tbody tr th:only-of-type {\n",
              "        vertical-align: middle;\n",
              "    }\n",
              "\n",
              "    .dataframe tbody tr th {\n",
              "        vertical-align: top;\n",
              "    }\n",
              "\n",
              "    .dataframe thead th {\n",
              "        text-align: right;\n",
              "    }\n",
              "</style>\n",
              "<table border=\"1\" class=\"dataframe\">\n",
              "  <thead>\n",
              "    <tr style=\"text-align: right;\">\n",
              "      <th></th>\n",
              "      <th>invoice_id</th>\n",
              "    </tr>\n",
              "    <tr>\n",
              "      <th>jenis_pembayaran</th>\n",
              "      <th></th>\n",
              "    </tr>\n",
              "  </thead>\n",
              "  <tbody>\n",
              "    <tr>\n",
              "      <th>CASH</th>\n",
              "      <td>20.040080</td>\n",
              "    </tr>\n",
              "    <tr>\n",
              "      <th>QRIS-GOPAY</th>\n",
              "      <td>17.835671</td>\n",
              "    </tr>\n",
              "    <tr>\n",
              "      <th>QRIS-OVO</th>\n",
              "      <td>17.434870</td>\n",
              "    </tr>\n",
              "    <tr>\n",
              "      <th>QRIS-DANA</th>\n",
              "      <td>16.232465</td>\n",
              "    </tr>\n",
              "    <tr>\n",
              "      <th>QRIS-OTHERS</th>\n",
              "      <td>15.230461</td>\n",
              "    </tr>\n",
              "  </tbody>\n",
              "</table>\n",
              "</div>"
            ],
            "text/plain": [
              "                  invoice_id\n",
              "jenis_pembayaran            \n",
              "CASH               20.040080\n",
              "QRIS-GOPAY         17.835671\n",
              "QRIS-OVO           17.434870\n",
              "QRIS-DANA          16.232465\n",
              "QRIS-OTHERS        15.230461"
            ]
          },
          "execution_count": 32,
          "metadata": {},
          "output_type": "execute_result"
        }
      ],
      "source": [
        "transaction_count = df.groupby(by='jenis_pembayaran')[['invoice_id']].count().sort_values(by='invoice_id', ascending=False)\n",
        "def convert_to_percentage(x):\n",
        "    return 100 * x / float(x.sum())\n",
        "\n",
        "transaction_percentage = transaction_count.apply(convert_to_percentage)\n",
        "transaction_percentage.head()"
      ]
    },
    {
      "cell_type": "code",
      "execution_count": 33,
      "metadata": {
        "colab": {
          "base_uri": "https://localhost:8080/",
          "height": 143
        },
        "id": "Q0cnVcfmW7kp",
        "outputId": "142bbe10-46a5-4ab5-beec-96785b8ad3e8"
      },
      "outputs": [
        {
          "data": {
            "text/html": [
              "<div>\n",
              "<style scoped>\n",
              "    .dataframe tbody tr th:only-of-type {\n",
              "        vertical-align: middle;\n",
              "    }\n",
              "\n",
              "    .dataframe tbody tr th {\n",
              "        vertical-align: top;\n",
              "    }\n",
              "\n",
              "    .dataframe thead th {\n",
              "        text-align: right;\n",
              "    }\n",
              "</style>\n",
              "<table border=\"1\" class=\"dataframe\">\n",
              "  <thead>\n",
              "    <tr style=\"text-align: right;\">\n",
              "      <th></th>\n",
              "      <th>invoice_id</th>\n",
              "    </tr>\n",
              "    <tr>\n",
              "      <th>jenis_pesanan</th>\n",
              "      <th></th>\n",
              "    </tr>\n",
              "  </thead>\n",
              "  <tbody>\n",
              "    <tr>\n",
              "      <th>Dine-In</th>\n",
              "      <td>51.703407</td>\n",
              "    </tr>\n",
              "    <tr>\n",
              "      <th>Delivery</th>\n",
              "      <td>48.296593</td>\n",
              "    </tr>\n",
              "  </tbody>\n",
              "</table>\n",
              "</div>"
            ],
            "text/plain": [
              "               invoice_id\n",
              "jenis_pesanan            \n",
              "Dine-In         51.703407\n",
              "Delivery        48.296593"
            ]
          },
          "execution_count": 33,
          "metadata": {},
          "output_type": "execute_result"
        }
      ],
      "source": [
        "transaction_count = df.groupby(by='jenis_pesanan')[['invoice_id']].count().sort_values(by='invoice_id', ascending=False)\n",
        "def convert_to_percentage(x):\n",
        "    return 100 * x / float(x.sum())\n",
        "\n",
        "transaction_percentage = transaction_count.apply(convert_to_percentage)\n",
        "transaction_percentage.head()"
      ]
    },
    {
      "cell_type": "code",
      "execution_count": 34,
      "metadata": {
        "colab": {
          "base_uri": "https://localhost:8080/",
          "height": 143
        },
        "id": "t_qAHCv5blnU",
        "outputId": "881e0edf-2c81-4288-82db-551fecb59d2a"
      },
      "outputs": [
        {
          "data": {
            "text/html": [
              "<div>\n",
              "<style scoped>\n",
              "    .dataframe tbody tr th:only-of-type {\n",
              "        vertical-align: middle;\n",
              "    }\n",
              "\n",
              "    .dataframe tbody tr th {\n",
              "        vertical-align: top;\n",
              "    }\n",
              "\n",
              "    .dataframe thead th {\n",
              "        text-align: right;\n",
              "    }\n",
              "</style>\n",
              "<table border=\"1\" class=\"dataframe\">\n",
              "  <thead>\n",
              "    <tr style=\"text-align: right;\">\n",
              "      <th></th>\n",
              "      <th>invoice_id</th>\n",
              "    </tr>\n",
              "    <tr>\n",
              "      <th>jenis_produk</th>\n",
              "      <th></th>\n",
              "    </tr>\n",
              "  </thead>\n",
              "  <tbody>\n",
              "    <tr>\n",
              "      <th>mie-kuah</th>\n",
              "      <td>69.93988</td>\n",
              "    </tr>\n",
              "    <tr>\n",
              "      <th>mie-goreng</th>\n",
              "      <td>30.06012</td>\n",
              "    </tr>\n",
              "  </tbody>\n",
              "</table>\n",
              "</div>"
            ],
            "text/plain": [
              "              invoice_id\n",
              "jenis_produk            \n",
              "mie-kuah        69.93988\n",
              "mie-goreng      30.06012"
            ]
          },
          "execution_count": 34,
          "metadata": {},
          "output_type": "execute_result"
        }
      ],
      "source": [
        "transaction_count = df.groupby(by='jenis_produk')[['invoice_id']].count().sort_values(by='invoice_id', ascending=False)\n",
        "def convert_to_percentage(x):\n",
        "    return 100 * x / float(x.sum())\n",
        "\n",
        "transaction_percentage = transaction_count.apply(convert_to_percentage)\n",
        "transaction_percentage.head()"
      ]
    },
    {
      "cell_type": "code",
      "execution_count": 35,
      "metadata": {
        "colab": {
          "base_uri": "https://localhost:8080/",
          "height": 705
        },
        "id": "W_3hF2KaasMm",
        "outputId": "054ffb7b-38aa-4470-f307-2de4f5a50253"
      },
      "outputs": [
        {
          "data": {
            "text/plain": [
              "Text(0.5, 1.0, 'Most Sold Items')"
            ]
          },
          "execution_count": 35,
          "metadata": {},
          "output_type": "execute_result"
        },
        {
          "data": {
            "image/png": "[encoded data removed]",
            "text/plain": [
              "<Figure size 2000x600 with 2 Axes>"
            ]
          },
          "metadata": {},
          "output_type": "display_data"
        }
      ],
      "source": [
        "# visualisasikan data penjualan item terbanyak ke line chart dan bar chart\n",
        "plt.figure(figsize=(20,6))\n",
        "\n",
        "plt.subplot(1,2,1)\n",
        "#plt.plot(most_sold)\n",
        "most_sold.plot(kind='line')\n",
        "plt.title('Most Sold Items')\n",
        "\n",
        "\n",
        "plt.subplot(1,2,2)\n",
        "most_sold.plot(kind='bar')\n",
        "plt.title('Most Sold Items')"
      ]
    },
    {
      "cell_type": "code",
      "execution_count": 37,
      "metadata": {
        "colab": {
          "base_uri": "https://localhost:8080/",
          "height": 705
        },
        "id": "X7ZZsARCfBzk",
        "outputId": "787a03ca-839a-46ad-ff7e-98766f2ca946"
      },
      "outputs": [
        {
          "data": {
            "text/plain": [
              "Text(0.5, 1.0, 'Most Payment Use Type')"
            ]
          },
          "execution_count": 37,
          "metadata": {},
          "output_type": "execute_result"
        },
        {
          "data": {
            "image/png": "[encoded data removed]",
            "text/plain": [
              "<Figure size 2000x600 with 2 Axes>"
            ]
          },
          "metadata": {},
          "output_type": "display_data"
        }
      ],
      "source": [
        "# visualisasikan data penjualan item terbanyak ke line chart dan bar chart\n",
        "plt.figure(figsize=(20,6))\n",
        "\n",
        "plt.subplot(1,2,1)\n",
        "#plt.plot(most_sold)\n",
        "most_use.plot(kind='line')\n",
        "plt.title('Most Payment Use Type')\n",
        "\n",
        "\n",
        "plt.subplot(1,2,2)\n",
        "most_use.plot(kind='bar')\n",
        "plt.title('Most Payment Use Type')"
      ]
    },
    {
      "cell_type": "code",
      "execution_count": 38,
      "metadata": {
        "colab": {
          "base_uri": "https://localhost:8080/",
          "height": 551
        },
        "id": "I-RmZIJ-fRFH",
        "outputId": "cfec79d7-d40c-4ef1-88e9-c6fb1061de6b"
      },
      "outputs": [
        {
          "data": {
            "text/plain": [
              "Text(0.5, 1.0, 'Most Order Type')"
            ]
          },
          "execution_count": 38,
          "metadata": {},
          "output_type": "execute_result"
        },
        {
          "data": {
            "image/png": "[encoded data removed]",
            "text/plain": [
              "<Figure size 2000x600 with 2 Axes>"
            ]
          },
          "metadata": {},
          "output_type": "display_data"
        }
      ],
      "source": [
        "# visualisasikan data penjualan item terbanyak ke line chart dan bar chart\n",
        "plt.figure(figsize=(20,6))\n",
        "\n",
        "plt.subplot(1,2,1)\n",
        "#plt.plot(most_order)\n",
        "most_order.plot(kind='line')\n",
        "plt.title('Most Order Type')\n",
        "\n",
        "\n",
        "plt.subplot(1,2,2)\n",
        "most_order.plot(kind='bar')\n",
        "plt.title('Most Order Type')"
      ]
    },
    {
      "cell_type": "code",
      "execution_count": 39,
      "metadata": {
        "colab": {
          "base_uri": "https://localhost:8080/",
          "height": 575
        },
        "id": "hM4nkYI5dGkt",
        "outputId": "bcddb630-d808-41d1-cd5f-9324e48ba02b"
      },
      "outputs": [
        {
          "data": {
            "text/plain": [
              "Text(0.5, 1.0, 'Most Food Order Type')"
            ]
          },
          "execution_count": 39,
          "metadata": {},
          "output_type": "execute_result"
        },
        {
          "data": {
            "image/png": "[encoded data removed]",
            "text/plain": [
              "<Figure size 2000x600 with 2 Axes>"
            ]
          },
          "metadata": {},
          "output_type": "display_data"
        }
      ],
      "source": [
        "# visualisasikan data penjualan item terbanyak ke line chart dan bar chart\n",
        "plt.figure(figsize=(20,6))\n",
        "\n",
        "plt.subplot(1,2,1)\n",
        "#plt.plot(most_order)\n",
        "most_food_order.plot(kind='line')\n",
        "plt.title('Most Food Order Type')\n",
        "\n",
        "\n",
        "plt.subplot(1,2,2)\n",
        "most_food_order.plot(kind='bar')\n",
        "plt.title('Most Food Order Type')"
      ]
    },
    {
      "cell_type": "code",
      "execution_count": 40,
      "metadata": {
        "colab": {
          "base_uri": "https://localhost:8080/",
          "height": 475
        },
        "id": "3vTQomLFasJP",
        "outputId": "35948e09-e11d-4705-fadf-2b4de5c21157"
      },
      "outputs": [
        {
          "data": {
            "image/png": "[encoded data removed]",
            "text/plain": [
              "<Figure size 640x480 with 1 Axes>"
            ]
          },
          "metadata": {},
          "output_type": "display_data"
        }
      ],
      "source": [
        "# Penjualan Per Bulan dari produk pesanan\n",
        "df.groupby('bulan')['invoice_id'].nunique().plot(kind='bar', title='Penjualan Per Bulan')\n",
        "plt.show()"
      ]
    },
    {
      "cell_type": "markdown",
      "metadata": {
        "id": "KcOEQ6joWP8i"
      },
      "source": [
        "Dari hasil visualisasi data penjualan perbulan, terlihat terjadi perbedaan penjualan pada bulan 4 dan bulan 7 ini disebut dengan outlier.\n",
        "Untuk mengetahui lebih lanjut, kita bisa periksa untuk melihat apakah ada lebih sedikit transaksi harian yang dicatat untuk bulan-bulan ini dibandingkan dengan yang lain."
      ]
    },
    {
      "cell_type": "code",
      "execution_count": 41,
      "metadata": {
        "colab": {
          "base_uri": "https://localhost:8080/"
        },
        "id": "3KUVgjgDa96F",
        "outputId": "b68aa1b6-1948-4710-94cf-52cba138ef87"
      },
      "outputs": [
        {
          "name": "stdout",
          "output_type": "stream",
          "text": [
            "bulan\n",
            "01    61\n",
            "02    64\n",
            "03    55\n",
            "04    49\n",
            "05    74\n",
            "06    66\n",
            "07    80\n",
            "08    50\n",
            "Name: invoice_id, dtype: int64\n"
          ]
        }
      ],
      "source": [
        "print(df.groupby('bulan')['invoice_id'].nunique())"
      ]
    },
    {
      "cell_type": "markdown",
      "metadata": {
        "id": "ud0D6bgklyqb"
      },
      "source": [
        "Berdasarkan data, Penjualan terbanyak di bulan ke 7 sebanyak 80, penjualan paling sedikit di bulan ke 4 dengan 49 untuk warmindo"
      ]
    },
    {
      "cell_type": "markdown",
      "metadata": {
        "id": "sAnhfA6tmFyD"
      },
      "source": [
        "## **5. Market Basket Analysis**\n",
        "memakai Algoritma Apriori"
      ]
    },
    {
      "cell_type": "markdown",
      "metadata": {
        "id": "R4E90s6umYB1"
      },
      "source": [
        "Pertama kita mengubah item list menjadi data transaksi dengan menggunakan TransactionEncoder.\n",
        "Kita akan menggunakan frequent item-sets untuk menghasilkan aturan asosiasi dengan menggunakan algoritma Apriori.\n"
      ]
    },
    {
      "cell_type": "code",
      "execution_count": 42,
      "metadata": {
        "collapsed": true,
        "id": "VVsgLHK51jw-"
      },
      "outputs": [],
      "source": [
        "!pip install -q mlxtend"
      ]
    },
    {
      "cell_type": "code",
      "execution_count": 43,
      "metadata": {
        "collapsed": true,
        "id": "L82xUMNIa93T"
      },
      "outputs": [],
      "source": [
        "from mlxtend.preprocessing import TransactionEncoder\n",
        "from mlxtend.frequent_patterns import association_rules, apriori"
      ]
    },
    {
      "cell_type": "markdown",
      "metadata": {
        "id": "M_lj3kvwqLE0"
      },
      "source": [
        "kita membuat list transaction_list() yang unik sehingga kita dapat mengubah data kita ke dalam format yang benar"
      ]
    },
    {
      "cell_type": "code",
      "execution_count": 44,
      "metadata": {
        "colab": {
          "base_uri": "https://localhost:8080/",
          "height": 275
        },
        "id": "0v8X7l5Ma90i",
        "outputId": "9937b043-edee-4c71-e174-118153f90aa8"
      },
      "outputs": [
        {
          "name": "stdout",
          "output_type": "stream",
          "text": [
            "207\n"
          ]
        }
      ],
      "source": [
        "transaction_list = []\n",
        "\n",
        "# For loop to create a list of the unique transactions throughout the dataset:\n",
        "for i in df['tanggal_transaksi'].unique():\n",
        "    tlist = list(set(df[df['tanggal_transaksi']==i]['nama_produk']))\n",
        "    if len(tlist)>0:\n",
        "        transaction_list.append(tlist)\n",
        "print(len(transaction_list))"
      ]
    },
    {
      "cell_type": "markdown",
      "metadata": {
        "id": "QmtvWrBTq2F-"
      },
      "source": [
        "kita menggunakan TransactionEncoder untuk merubah bentuk transaction_list()"
      ]
    },
    {
      "cell_type": "code",
      "execution_count": 45,
      "metadata": {
        "colab": {
          "base_uri": "https://localhost:8080/"
        },
        "id": "19tdfChHa9xm",
        "outputId": "26a4cb15-28f5-4272-bd0e-27abaac63251"
      },
      "outputs": [],
      "source": [
        "te = TransactionEncoder()\n",
        "te_ary = te.fit(transaction_list).transform(transaction_list)\n",
        "df2 = pd.DataFrame(te_ary, columns=te.columns_)"
      ]
    },
    {
      "cell_type": "code",
      "execution_count": 46,
      "metadata": {
        "colab": {
          "base_uri": "https://localhost:8080/",
          "height": 566
        },
        "id": "ifo49K2e20Ou",
        "outputId": "f2361bbb-2c04-45ff-9fc9-b55a7ab79e82"
      },
      "outputs": [
        {
          "data": {
            "text/html": [
              "<div>\n",
              "<style scoped>\n",
              "    .dataframe tbody tr th:only-of-type {\n",
              "        vertical-align: middle;\n",
              "    }\n",
              "\n",
              "    .dataframe tbody tr th {\n",
              "        vertical-align: top;\n",
              "    }\n",
              "\n",
              "    .dataframe thead th {\n",
              "        text-align: right;\n",
              "    }\n",
              "</style>\n",
              "<table border=\"1\" class=\"dataframe\">\n",
              "  <thead>\n",
              "    <tr style=\"text-align: right;\">\n",
              "      <th></th>\n",
              "      <th>Indomie Ayam Spesial</th>\n",
              "      <th>Indomie Baso Sapi</th>\n",
              "      <th>Indomie Goreng Aceh</th>\n",
              "      <th>Indomie Goreng Cabe Ijo</th>\n",
              "      <th>Indomie Goreng Pedas</th>\n",
              "      <th>Indomie Goreng Rendang</th>\n",
              "      <th>Indomie Goreng Sambal Matah</th>\n",
              "      <th>Indomie Goreng Spesial</th>\n",
              "      <th>Indomie Rasa Empal Gentong</th>\n",
              "      <th>Indomie Rasa Mi Kocok Bandung</th>\n",
              "      <th>Indomie Rasa Sop Buntut</th>\n",
              "      <th>Indomie Rasa Soto Banjar Limau Kuit</th>\n",
              "      <th>Indomie Rasa Soto Betawi</th>\n",
              "      <th>Indomie Rasa Soto Lamongan</th>\n",
              "      <th>Indomie Rasa Soto Padang</th>\n",
              "      <th>Indomie Soto Mie</th>\n",
              "      <th>indomie Ayam Bawang</th>\n",
              "      <th>indomie Kari Ayam</th>\n",
              "    </tr>\n",
              "  </thead>\n",
              "  <tbody>\n",
              "    <tr>\n",
              "      <th>0</th>\n",
              "      <td>True</td>\n",
              "      <td>False</td>\n",
              "      <td>False</td>\n",
              "      <td>True</td>\n",
              "      <td>False</td>\n",
              "      <td>True</td>\n",
              "      <td>False</td>\n",
              "      <td>False</td>\n",
              "      <td>False</td>\n",
              "      <td>False</td>\n",
              "      <td>False</td>\n",
              "      <td>False</td>\n",
              "      <td>False</td>\n",
              "      <td>False</td>\n",
              "      <td>True</td>\n",
              "      <td>False</td>\n",
              "      <td>False</td>\n",
              "      <td>False</td>\n",
              "    </tr>\n",
              "    <tr>\n",
              "      <th>1</th>\n",
              "      <td>True</td>\n",
              "      <td>False</td>\n",
              "      <td>False</td>\n",
              "      <td>False</td>\n",
              "      <td>False</td>\n",
              "      <td>False</td>\n",
              "      <td>False</td>\n",
              "      <td>False</td>\n",
              "      <td>False</td>\n",
              "      <td>False</td>\n",
              "      <td>False</td>\n",
              "      <td>True</td>\n",
              "      <td>False</td>\n",
              "      <td>False</td>\n",
              "      <td>False</td>\n",
              "      <td>False</td>\n",
              "      <td>False</td>\n",
              "      <td>False</td>\n",
              "    </tr>\n",
              "    <tr>\n",
              "      <th>2</th>\n",
              "      <td>False</td>\n",
              "      <td>False</td>\n",
              "      <td>False</td>\n",
              "      <td>False</td>\n",
              "      <td>False</td>\n",
              "      <td>False</td>\n",
              "      <td>False</td>\n",
              "      <td>False</td>\n",
              "      <td>False</td>\n",
              "      <td>False</td>\n",
              "      <td>False</td>\n",
              "      <td>False</td>\n",
              "      <td>True</td>\n",
              "      <td>False</td>\n",
              "      <td>False</td>\n",
              "      <td>False</td>\n",
              "      <td>False</td>\n",
              "      <td>False</td>\n",
              "    </tr>\n",
              "    <tr>\n",
              "      <th>3</th>\n",
              "      <td>False</td>\n",
              "      <td>False</td>\n",
              "      <td>False</td>\n",
              "      <td>False</td>\n",
              "      <td>False</td>\n",
              "      <td>False</td>\n",
              "      <td>False</td>\n",
              "      <td>False</td>\n",
              "      <td>False</td>\n",
              "      <td>False</td>\n",
              "      <td>False</td>\n",
              "      <td>False</td>\n",
              "      <td>False</td>\n",
              "      <td>False</td>\n",
              "      <td>True</td>\n",
              "      <td>False</td>\n",
              "      <td>False</td>\n",
              "      <td>True</td>\n",
              "    </tr>\n",
              "    <tr>\n",
              "      <th>4</th>\n",
              "      <td>False</td>\n",
              "      <td>False</td>\n",
              "      <td>False</td>\n",
              "      <td>False</td>\n",
              "      <td>False</td>\n",
              "      <td>False</td>\n",
              "      <td>True</td>\n",
              "      <td>False</td>\n",
              "      <td>False</td>\n",
              "      <td>False</td>\n",
              "      <td>True</td>\n",
              "      <td>True</td>\n",
              "      <td>False</td>\n",
              "      <td>False</td>\n",
              "      <td>False</td>\n",
              "      <td>False</td>\n",
              "      <td>False</td>\n",
              "      <td>False</td>\n",
              "    </tr>\n",
              "    <tr>\n",
              "      <th>...</th>\n",
              "      <td>...</td>\n",
              "      <td>...</td>\n",
              "      <td>...</td>\n",
              "      <td>...</td>\n",
              "      <td>...</td>\n",
              "      <td>...</td>\n",
              "      <td>...</td>\n",
              "      <td>...</td>\n",
              "      <td>...</td>\n",
              "      <td>...</td>\n",
              "      <td>...</td>\n",
              "      <td>...</td>\n",
              "      <td>...</td>\n",
              "      <td>...</td>\n",
              "      <td>...</td>\n",
              "      <td>...</td>\n",
              "      <td>...</td>\n",
              "      <td>...</td>\n",
              "    </tr>\n",
              "    <tr>\n",
              "      <th>202</th>\n",
              "      <td>False</td>\n",
              "      <td>False</td>\n",
              "      <td>False</td>\n",
              "      <td>False</td>\n",
              "      <td>False</td>\n",
              "      <td>False</td>\n",
              "      <td>False</td>\n",
              "      <td>False</td>\n",
              "      <td>False</td>\n",
              "      <td>False</td>\n",
              "      <td>False</td>\n",
              "      <td>True</td>\n",
              "      <td>False</td>\n",
              "      <td>False</td>\n",
              "      <td>False</td>\n",
              "      <td>False</td>\n",
              "      <td>False</td>\n",
              "      <td>False</td>\n",
              "    </tr>\n",
              "    <tr>\n",
              "      <th>203</th>\n",
              "      <td>False</td>\n",
              "      <td>False</td>\n",
              "      <td>False</td>\n",
              "      <td>False</td>\n",
              "      <td>False</td>\n",
              "      <td>False</td>\n",
              "      <td>False</td>\n",
              "      <td>False</td>\n",
              "      <td>False</td>\n",
              "      <td>False</td>\n",
              "      <td>False</td>\n",
              "      <td>False</td>\n",
              "      <td>True</td>\n",
              "      <td>False</td>\n",
              "      <td>False</td>\n",
              "      <td>False</td>\n",
              "      <td>False</td>\n",
              "      <td>False</td>\n",
              "    </tr>\n",
              "    <tr>\n",
              "      <th>204</th>\n",
              "      <td>False</td>\n",
              "      <td>False</td>\n",
              "      <td>False</td>\n",
              "      <td>False</td>\n",
              "      <td>False</td>\n",
              "      <td>False</td>\n",
              "      <td>False</td>\n",
              "      <td>False</td>\n",
              "      <td>True</td>\n",
              "      <td>False</td>\n",
              "      <td>False</td>\n",
              "      <td>False</td>\n",
              "      <td>False</td>\n",
              "      <td>False</td>\n",
              "      <td>False</td>\n",
              "      <td>False</td>\n",
              "      <td>False</td>\n",
              "      <td>False</td>\n",
              "    </tr>\n",
              "    <tr>\n",
              "      <th>205</th>\n",
              "      <td>False</td>\n",
              "      <td>False</td>\n",
              "      <td>False</td>\n",
              "      <td>False</td>\n",
              "      <td>False</td>\n",
              "      <td>False</td>\n",
              "      <td>True</td>\n",
              "      <td>False</td>\n",
              "      <td>False</td>\n",
              "      <td>False</td>\n",
              "      <td>False</td>\n",
              "      <td>False</td>\n",
              "      <td>False</td>\n",
              "      <td>False</td>\n",
              "      <td>False</td>\n",
              "      <td>False</td>\n",
              "      <td>False</td>\n",
              "      <td>False</td>\n",
              "    </tr>\n",
              "    <tr>\n",
              "      <th>206</th>\n",
              "      <td>False</td>\n",
              "      <td>False</td>\n",
              "      <td>False</td>\n",
              "      <td>False</td>\n",
              "      <td>False</td>\n",
              "      <td>False</td>\n",
              "      <td>False</td>\n",
              "      <td>False</td>\n",
              "      <td>False</td>\n",
              "      <td>False</td>\n",
              "      <td>False</td>\n",
              "      <td>False</td>\n",
              "      <td>False</td>\n",
              "      <td>False</td>\n",
              "      <td>False</td>\n",
              "      <td>True</td>\n",
              "      <td>False</td>\n",
              "      <td>False</td>\n",
              "    </tr>\n",
              "  </tbody>\n",
              "</table>\n",
              "<p>207 rows × 18 columns</p>\n",
              "</div>"
            ],
            "text/plain": [
              "     Indomie Ayam Spesial  Indomie Baso Sapi  Indomie Goreng Aceh  \\\n",
              "0                    True              False                False   \n",
              "1                    True              False                False   \n",
              "2                   False              False                False   \n",
              "3                   False              False                False   \n",
              "4                   False              False                False   \n",
              "..                    ...                ...                  ...   \n",
              "202                 False              False                False   \n",
              "203                 False              False                False   \n",
              "204                 False              False                False   \n",
              "205                 False              False                False   \n",
              "206                 False              False                False   \n",
              "\n",
              "     Indomie Goreng Cabe Ijo  Indomie Goreng Pedas  Indomie Goreng Rendang  \\\n",
              "0                       True                 False                    True   \n",
              "1                      False                 False                   False   \n",
              "2                      False                 False                   False   \n",
              "3                      False                 False                   False   \n",
              "4                      False                 False                   False   \n",
              "..                       ...                   ...                     ...   \n",
              "202                    False                 False                   False   \n",
              "203                    False                 False                   False   \n",
              "204                    False                 False                   False   \n",
              "205                    False                 False                   False   \n",
              "206                    False                 False                   False   \n",
              "\n",
              "     Indomie Goreng Sambal Matah  Indomie Goreng Spesial  \\\n",
              "0                          False                   False   \n",
              "1                          False                   False   \n",
              "2                          False                   False   \n",
              "3                          False                   False   \n",
              "4                           True                   False   \n",
              "..                           ...                     ...   \n",
              "202                        False                   False   \n",
              "203                        False                   False   \n",
              "204                        False                   False   \n",
              "205                         True                   False   \n",
              "206                        False                   False   \n",
              "\n",
              "     Indomie Rasa Empal Gentong  Indomie Rasa Mi Kocok Bandung  \\\n",
              "0                         False                          False   \n",
              "1                         False                          False   \n",
              "2                         False                          False   \n",
              "3                         False                          False   \n",
              "4                         False                          False   \n",
              "..                          ...                            ...   \n",
              "202                       False                          False   \n",
              "203                       False                          False   \n",
              "204                        True                          False   \n",
              "205                       False                          False   \n",
              "206                       False                          False   \n",
              "\n",
              "     Indomie Rasa Sop Buntut  Indomie Rasa Soto Banjar Limau Kuit  \\\n",
              "0                      False                                False   \n",
              "1                      False                                 True   \n",
              "2                      False                                False   \n",
              "3                      False                                False   \n",
              "4                       True                                 True   \n",
              "..                       ...                                  ...   \n",
              "202                    False                                 True   \n",
              "203                    False                                False   \n",
              "204                    False                                False   \n",
              "205                    False                                False   \n",
              "206                    False                                False   \n",
              "\n",
              "     Indomie Rasa Soto Betawi  Indomie Rasa Soto Lamongan  \\\n",
              "0                       False                       False   \n",
              "1                       False                       False   \n",
              "2                        True                       False   \n",
              "3                       False                       False   \n",
              "4                       False                       False   \n",
              "..                        ...                         ...   \n",
              "202                     False                       False   \n",
              "203                      True                       False   \n",
              "204                     False                       False   \n",
              "205                     False                       False   \n",
              "206                     False                       False   \n",
              "\n",
              "     Indomie Rasa Soto Padang  Indomie Soto Mie  indomie Ayam Bawang  \\\n",
              "0                        True             False                False   \n",
              "1                       False             False                False   \n",
              "2                       False             False                False   \n",
              "3                        True             False                False   \n",
              "4                       False             False                False   \n",
              "..                        ...               ...                  ...   \n",
              "202                     False             False                False   \n",
              "203                     False             False                False   \n",
              "204                     False             False                False   \n",
              "205                     False             False                False   \n",
              "206                     False              True                False   \n",
              "\n",
              "     indomie Kari Ayam  \n",
              "0                False  \n",
              "1                False  \n",
              "2                False  \n",
              "3                 True  \n",
              "4                False  \n",
              "..                 ...  \n",
              "202              False  \n",
              "203              False  \n",
              "204              False  \n",
              "205              False  \n",
              "206              False  \n",
              "\n",
              "[207 rows x 18 columns]"
            ]
          },
          "execution_count": 46,
          "metadata": {},
          "output_type": "execute_result"
        }
      ],
      "source": [
        "df2"
      ]
    },
    {
      "cell_type": "markdown",
      "metadata": {
        "id": "kffaMg3SraLA"
      },
      "source": [
        "Sekarang kita terapkan Apriori. Kita akan menggunakan parameter min_threshold (nilai ambang batas yang ditentukan) dalam aturan asosiasi untuk metrik lift menjadi 1,0 karena jika kurang dari satu, maka kedua item tersebut kemungkinan tidak akan dibeli bersama. Kita akan mengurutkan nilai berdasarkan keyakinan untuk melihat kemungkinan suatu barang dibeli jika pendahulunya dibeli."
      ]
    },
    {
      "cell_type": "code",
      "execution_count": 47,
      "metadata": {
        "colab": {
          "base_uri": "https://localhost:8080/",
          "height": 480
        },
        "id": "Q8e9VpIIa9u6",
        "outputId": "b1c2ad25-9c16-4fa8-e3dc-2beba9334d3b"
      },
      "outputs": [
        {
          "data": {
            "text/html": [
              "<div>\n",
              "<style scoped>\n",
              "    .dataframe tbody tr th:only-of-type {\n",
              "        vertical-align: middle;\n",
              "    }\n",
              "\n",
              "    .dataframe tbody tr th {\n",
              "        vertical-align: top;\n",
              "    }\n",
              "\n",
              "    .dataframe thead th {\n",
              "        text-align: right;\n",
              "    }\n",
              "</style>\n",
              "<table border=\"1\" class=\"dataframe\">\n",
              "  <thead>\n",
              "    <tr style=\"text-align: right;\">\n",
              "      <th></th>\n",
              "      <th>antecedents</th>\n",
              "      <th>consequents</th>\n",
              "      <th>support</th>\n",
              "      <th>confidence</th>\n",
              "      <th>lift</th>\n",
              "    </tr>\n",
              "  </thead>\n",
              "  <tbody>\n",
              "    <tr>\n",
              "      <th>168</th>\n",
              "      <td>(Indomie Rasa Soto Betawi, Indomie Soto Mie)</td>\n",
              "      <td>(Indomie Rasa Soto Padang)</td>\n",
              "      <td>0.014493</td>\n",
              "      <td>1.000000</td>\n",
              "      <td>8.280000</td>\n",
              "    </tr>\n",
              "    <tr>\n",
              "      <th>169</th>\n",
              "      <td>(Indomie Rasa Soto Padang)</td>\n",
              "      <td>(Indomie Rasa Soto Betawi, Indomie Soto Mie)</td>\n",
              "      <td>0.014493</td>\n",
              "      <td>0.120000</td>\n",
              "      <td>8.280000</td>\n",
              "    </tr>\n",
              "    <tr>\n",
              "      <th>128</th>\n",
              "      <td>(Indomie Baso Sapi)</td>\n",
              "      <td>(Indomie Rasa Mi Kocok Bandung, Indomie Rasa S...</td>\n",
              "      <td>0.014493</td>\n",
              "      <td>0.136364</td>\n",
              "      <td>7.056818</td>\n",
              "    </tr>\n",
              "    <tr>\n",
              "      <th>125</th>\n",
              "      <td>(Indomie Rasa Mi Kocok Bandung, Indomie Rasa S...</td>\n",
              "      <td>(Indomie Baso Sapi)</td>\n",
              "      <td>0.014493</td>\n",
              "      <td>0.750000</td>\n",
              "      <td>7.056818</td>\n",
              "    </tr>\n",
              "    <tr>\n",
              "      <th>153</th>\n",
              "      <td>(indomie Kari Ayam)</td>\n",
              "      <td>(Indomie Rasa Mi Kocok Bandung, Indomie Rasa S...</td>\n",
              "      <td>0.014493</td>\n",
              "      <td>0.096774</td>\n",
              "      <td>5.008065</td>\n",
              "    </tr>\n",
              "    <tr>\n",
              "      <th>...</th>\n",
              "      <td>...</td>\n",
              "      <td>...</td>\n",
              "      <td>...</td>\n",
              "      <td>...</td>\n",
              "      <td>...</td>\n",
              "    </tr>\n",
              "    <tr>\n",
              "      <th>83</th>\n",
              "      <td>(Indomie Rasa Soto Betawi)</td>\n",
              "      <td>(Indomie Rasa Empal Gentong)</td>\n",
              "      <td>0.028986</td>\n",
              "      <td>0.157895</td>\n",
              "      <td>1.054329</td>\n",
              "    </tr>\n",
              "    <tr>\n",
              "      <th>50</th>\n",
              "      <td>(Indomie Goreng Pedas)</td>\n",
              "      <td>(Indomie Rasa Soto Padang)</td>\n",
              "      <td>0.014493</td>\n",
              "      <td>0.125000</td>\n",
              "      <td>1.035000</td>\n",
              "    </tr>\n",
              "    <tr>\n",
              "      <th>51</th>\n",
              "      <td>(Indomie Rasa Soto Padang)</td>\n",
              "      <td>(Indomie Goreng Pedas)</td>\n",
              "      <td>0.014493</td>\n",
              "      <td>0.120000</td>\n",
              "      <td>1.035000</td>\n",
              "    </tr>\n",
              "    <tr>\n",
              "      <th>25</th>\n",
              "      <td>(Indomie Rasa Soto Lamongan)</td>\n",
              "      <td>(Indomie Baso Sapi)</td>\n",
              "      <td>0.014493</td>\n",
              "      <td>0.107143</td>\n",
              "      <td>1.008117</td>\n",
              "    </tr>\n",
              "    <tr>\n",
              "      <th>24</th>\n",
              "      <td>(Indomie Baso Sapi)</td>\n",
              "      <td>(Indomie Rasa Soto Lamongan)</td>\n",
              "      <td>0.014493</td>\n",
              "      <td>0.136364</td>\n",
              "      <td>1.008117</td>\n",
              "    </tr>\n",
              "  </tbody>\n",
              "</table>\n",
              "<p>172 rows × 5 columns</p>\n",
              "</div>"
            ],
            "text/plain": [
              "                                           antecedents  \\\n",
              "168       (Indomie Rasa Soto Betawi, Indomie Soto Mie)   \n",
              "169                         (Indomie Rasa Soto Padang)   \n",
              "128                                (Indomie Baso Sapi)   \n",
              "125  (Indomie Rasa Mi Kocok Bandung, Indomie Rasa S...   \n",
              "153                                (indomie Kari Ayam)   \n",
              "..                                                 ...   \n",
              "83                          (Indomie Rasa Soto Betawi)   \n",
              "50                              (Indomie Goreng Pedas)   \n",
              "51                          (Indomie Rasa Soto Padang)   \n",
              "25                        (Indomie Rasa Soto Lamongan)   \n",
              "24                                 (Indomie Baso Sapi)   \n",
              "\n",
              "                                           consequents   support  confidence  \\\n",
              "168                         (Indomie Rasa Soto Padang)  0.014493    1.000000   \n",
              "169       (Indomie Rasa Soto Betawi, Indomie Soto Mie)  0.014493    0.120000   \n",
              "128  (Indomie Rasa Mi Kocok Bandung, Indomie Rasa S...  0.014493    0.136364   \n",
              "125                                (Indomie Baso Sapi)  0.014493    0.750000   \n",
              "153  (Indomie Rasa Mi Kocok Bandung, Indomie Rasa S...  0.014493    0.096774   \n",
              "..                                                 ...       ...         ...   \n",
              "83                        (Indomie Rasa Empal Gentong)  0.028986    0.157895   \n",
              "50                          (Indomie Rasa Soto Padang)  0.014493    0.125000   \n",
              "51                              (Indomie Goreng Pedas)  0.014493    0.120000   \n",
              "25                                 (Indomie Baso Sapi)  0.014493    0.107143   \n",
              "24                        (Indomie Rasa Soto Lamongan)  0.014493    0.136364   \n",
              "\n",
              "         lift  \n",
              "168  8.280000  \n",
              "169  8.280000  \n",
              "128  7.056818  \n",
              "125  7.056818  \n",
              "153  5.008065  \n",
              "..        ...  \n",
              "83   1.054329  \n",
              "50   1.035000  \n",
              "51   1.035000  \n",
              "25   1.008117  \n",
              "24   1.008117  \n",
              "\n",
              "[172 rows x 5 columns]"
            ]
          },
          "execution_count": 47,
          "metadata": {},
          "output_type": "execute_result"
        }
      ],
      "source": [
        "frequent_itemsets = apriori(df2, min_support=0.01, use_colnames=True)\n",
        "rules = association_rules(frequent_itemsets, metric='lift', min_threshold=1.0)\n",
        "metrix = pd.DataFrame(rules)\n",
        "metrix[['antecedents','consequents', 'support', 'confidence', 'lift']].sort_values('lift', ascending=False)"
      ]
    },
    {
      "cell_type": "code",
      "execution_count": 69,
      "metadata": {},
      "outputs": [
        {
          "data": {
            "text/html": [
              "<div>\n",
              "<style scoped>\n",
              "    .dataframe tbody tr th:only-of-type {\n",
              "        vertical-align: middle;\n",
              "    }\n",
              "\n",
              "    .dataframe tbody tr th {\n",
              "        vertical-align: top;\n",
              "    }\n",
              "\n",
              "    .dataframe thead th {\n",
              "        text-align: right;\n",
              "    }\n",
              "</style>\n",
              "<table border=\"1\" class=\"dataframe\">\n",
              "  <thead>\n",
              "    <tr style=\"text-align: right;\">\n",
              "      <th></th>\n",
              "      <th>antecedents</th>\n",
              "      <th>consequents</th>\n",
              "      <th>support</th>\n",
              "      <th>confidence</th>\n",
              "      <th>lift</th>\n",
              "      <th>conviction</th>\n",
              "    </tr>\n",
              "  </thead>\n",
              "  <tbody>\n",
              "  </tbody>\n",
              "</table>\n",
              "</div>"
            ],
            "text/plain": [
              "Empty DataFrame\n",
              "Columns: [antecedents, consequents, support, confidence, lift, conviction]\n",
              "Index: []"
            ]
          },
          "execution_count": 69,
          "metadata": {},
          "output_type": "execute_result"
        }
      ],
      "source": [
        "frequent_itemsets = apriori(df2, min_support=0.01, use_colnames=True)\n",
        "rules = association_rules(frequent_itemsets, metric='lift', min_threshold=1.0)\n",
        "metrix = pd.DataFrame(rules)\n",
        "metrix[['antecedents','consequents', 'support', 'confidence', 'lift', 'conviction']].sort_values('lift', ascending=False)"
      ]
    },
    {
      "cell_type": "code",
      "execution_count": 48,
      "metadata": {
        "colab": {
          "base_uri": "https://localhost:8080/",
          "height": 802
        },
        "id": "2jng7RxRnyuZ",
        "outputId": "861dd7b6-5147-4628-a441-977b171dc345"
      },
      "outputs": [
        {
          "data": {
            "text/html": [
              "<div>\n",
              "<style scoped>\n",
              "    .dataframe tbody tr th:only-of-type {\n",
              "        vertical-align: middle;\n",
              "    }\n",
              "\n",
              "    .dataframe tbody tr th {\n",
              "        vertical-align: top;\n",
              "    }\n",
              "\n",
              "    .dataframe thead th {\n",
              "        text-align: right;\n",
              "    }\n",
              "</style>\n",
              "<table border=\"1\" class=\"dataframe\">\n",
              "  <thead>\n",
              "    <tr style=\"text-align: right;\">\n",
              "      <th></th>\n",
              "      <th>antecedents</th>\n",
              "      <th>consequents</th>\n",
              "      <th>antecedent support</th>\n",
              "      <th>consequent support</th>\n",
              "      <th>support</th>\n",
              "      <th>confidence</th>\n",
              "      <th>lift</th>\n",
              "      <th>leverage</th>\n",
              "      <th>conviction</th>\n",
              "      <th>zhangs_metric</th>\n",
              "    </tr>\n",
              "  </thead>\n",
              "  <tbody>\n",
              "    <tr>\n",
              "      <th>119</th>\n",
              "      <td>(indomie Kari Ayam, Indomie Goreng Cabe Ijo)</td>\n",
              "      <td>(Indomie Baso Sapi)</td>\n",
              "      <td>0.028986</td>\n",
              "      <td>0.106280</td>\n",
              "      <td>0.014493</td>\n",
              "      <td>0.500000</td>\n",
              "      <td>4.704545</td>\n",
              "      <td>0.011412</td>\n",
              "      <td>1.787440</td>\n",
              "      <td>0.810945</td>\n",
              "    </tr>\n",
              "    <tr>\n",
              "      <th>135</th>\n",
              "      <td>(indomie Kari Ayam)</td>\n",
              "      <td>(Indomie Rasa Mi Kocok Bandung, Indomie Baso S...</td>\n",
              "      <td>0.149758</td>\n",
              "      <td>0.028986</td>\n",
              "      <td>0.014493</td>\n",
              "      <td>0.096774</td>\n",
              "      <td>3.338710</td>\n",
              "      <td>0.010152</td>\n",
              "      <td>1.075052</td>\n",
              "      <td>0.823864</td>\n",
              "    </tr>\n",
              "    <tr>\n",
              "      <th>51</th>\n",
              "      <td>(Indomie Rasa Soto Padang)</td>\n",
              "      <td>(Indomie Goreng Pedas)</td>\n",
              "      <td>0.120773</td>\n",
              "      <td>0.115942</td>\n",
              "      <td>0.014493</td>\n",
              "      <td>0.120000</td>\n",
              "      <td>1.035000</td>\n",
              "      <td>0.000490</td>\n",
              "      <td>1.004611</td>\n",
              "      <td>0.038462</td>\n",
              "    </tr>\n",
              "    <tr>\n",
              "      <th>115</th>\n",
              "      <td>(Indomie Soto Mie)</td>\n",
              "      <td>(Indomie Rasa Soto Padang)</td>\n",
              "      <td>0.091787</td>\n",
              "      <td>0.120773</td>\n",
              "      <td>0.019324</td>\n",
              "      <td>0.210526</td>\n",
              "      <td>1.743158</td>\n",
              "      <td>0.008238</td>\n",
              "      <td>1.113688</td>\n",
              "      <td>0.469415</td>\n",
              "    </tr>\n",
              "    <tr>\n",
              "      <th>167</th>\n",
              "      <td>(Indomie Rasa Soto Padang, Indomie Rasa Soto B...</td>\n",
              "      <td>(Indomie Soto Mie)</td>\n",
              "      <td>0.038647</td>\n",
              "      <td>0.091787</td>\n",
              "      <td>0.014493</td>\n",
              "      <td>0.375000</td>\n",
              "      <td>4.085526</td>\n",
              "      <td>0.010945</td>\n",
              "      <td>1.453140</td>\n",
              "      <td>0.785595</td>\n",
              "    </tr>\n",
              "    <tr>\n",
              "      <th>168</th>\n",
              "      <td>(Indomie Rasa Soto Betawi, Indomie Soto Mie)</td>\n",
              "      <td>(Indomie Rasa Soto Padang)</td>\n",
              "      <td>0.014493</td>\n",
              "      <td>0.120773</td>\n",
              "      <td>0.014493</td>\n",
              "      <td>1.000000</td>\n",
              "      <td>8.280000</td>\n",
              "      <td>0.012742</td>\n",
              "      <td>inf</td>\n",
              "      <td>0.892157</td>\n",
              "    </tr>\n",
              "    <tr>\n",
              "      <th>1</th>\n",
              "      <td>(Indomie Ayam Spesial)</td>\n",
              "      <td>(Indomie Goreng Sambal Matah)</td>\n",
              "      <td>0.115942</td>\n",
              "      <td>0.101449</td>\n",
              "      <td>0.014493</td>\n",
              "      <td>0.125000</td>\n",
              "      <td>1.232143</td>\n",
              "      <td>0.002731</td>\n",
              "      <td>1.026915</td>\n",
              "      <td>0.213115</td>\n",
              "    </tr>\n",
              "    <tr>\n",
              "      <th>38</th>\n",
              "      <td>(Indomie Goreng Cabe Ijo)</td>\n",
              "      <td>(Indomie Rasa Soto Betawi)</td>\n",
              "      <td>0.144928</td>\n",
              "      <td>0.183575</td>\n",
              "      <td>0.028986</td>\n",
              "      <td>0.200000</td>\n",
              "      <td>1.089474</td>\n",
              "      <td>0.002380</td>\n",
              "      <td>1.020531</td>\n",
              "      <td>0.096045</td>\n",
              "    </tr>\n",
              "    <tr>\n",
              "      <th>87</th>\n",
              "      <td>(Indomie Rasa Soto Lamongan)</td>\n",
              "      <td>(Indomie Rasa Mi Kocok Bandung)</td>\n",
              "      <td>0.135266</td>\n",
              "      <td>0.125604</td>\n",
              "      <td>0.019324</td>\n",
              "      <td>0.142857</td>\n",
              "      <td>1.137363</td>\n",
              "      <td>0.002334</td>\n",
              "      <td>1.020129</td>\n",
              "      <td>0.139665</td>\n",
              "    </tr>\n",
              "    <tr>\n",
              "      <th>61</th>\n",
              "      <td>(Indomie Goreng Spesial)</td>\n",
              "      <td>(Indomie Goreng Sambal Matah)</td>\n",
              "      <td>0.115942</td>\n",
              "      <td>0.101449</td>\n",
              "      <td>0.014493</td>\n",
              "      <td>0.125000</td>\n",
              "      <td>1.232143</td>\n",
              "      <td>0.002731</td>\n",
              "      <td>1.026915</td>\n",
              "      <td>0.213115</td>\n",
              "    </tr>\n",
              "    <tr>\n",
              "      <th>84</th>\n",
              "      <td>(Indomie Rasa Soto Padang)</td>\n",
              "      <td>(Indomie Rasa Empal Gentong)</td>\n",
              "      <td>0.120773</td>\n",
              "      <td>0.149758</td>\n",
              "      <td>0.024155</td>\n",
              "      <td>0.200000</td>\n",
              "      <td>1.335484</td>\n",
              "      <td>0.006068</td>\n",
              "      <td>1.062802</td>\n",
              "      <td>0.285714</td>\n",
              "    </tr>\n",
              "    <tr>\n",
              "      <th>52</th>\n",
              "      <td>(Indomie Goreng Pedas)</td>\n",
              "      <td>(indomie Ayam Bawang)</td>\n",
              "      <td>0.115942</td>\n",
              "      <td>0.120773</td>\n",
              "      <td>0.028986</td>\n",
              "      <td>0.250000</td>\n",
              "      <td>2.070000</td>\n",
              "      <td>0.014983</td>\n",
              "      <td>1.172303</td>\n",
              "      <td>0.584699</td>\n",
              "    </tr>\n",
              "    <tr>\n",
              "      <th>95</th>\n",
              "      <td>(Indomie Rasa Sop Buntut)</td>\n",
              "      <td>(Indomie Rasa Soto Banjar Limau Kuit)</td>\n",
              "      <td>0.115942</td>\n",
              "      <td>0.188406</td>\n",
              "      <td>0.024155</td>\n",
              "      <td>0.208333</td>\n",
              "      <td>1.105769</td>\n",
              "      <td>0.002310</td>\n",
              "      <td>1.025172</td>\n",
              "      <td>0.108197</td>\n",
              "    </tr>\n",
              "    <tr>\n",
              "      <th>58</th>\n",
              "      <td>(Indomie Goreng Rendang)</td>\n",
              "      <td>(Indomie Rasa Soto Betawi)</td>\n",
              "      <td>0.091787</td>\n",
              "      <td>0.183575</td>\n",
              "      <td>0.019324</td>\n",
              "      <td>0.210526</td>\n",
              "      <td>1.146814</td>\n",
              "      <td>0.002474</td>\n",
              "      <td>1.034138</td>\n",
              "      <td>0.140957</td>\n",
              "    </tr>\n",
              "    <tr>\n",
              "      <th>8</th>\n",
              "      <td>(Indomie Ayam Spesial)</td>\n",
              "      <td>(Indomie Soto Mie)</td>\n",
              "      <td>0.115942</td>\n",
              "      <td>0.091787</td>\n",
              "      <td>0.014493</td>\n",
              "      <td>0.125000</td>\n",
              "      <td>1.361842</td>\n",
              "      <td>0.003851</td>\n",
              "      <td>1.037957</td>\n",
              "      <td>0.300546</td>\n",
              "    </tr>\n",
              "    <tr>\n",
              "      <th>21</th>\n",
              "      <td>(Indomie Baso Sapi)</td>\n",
              "      <td>(Indomie Rasa Soto Banjar Limau Kuit)</td>\n",
              "      <td>0.106280</td>\n",
              "      <td>0.188406</td>\n",
              "      <td>0.024155</td>\n",
              "      <td>0.227273</td>\n",
              "      <td>1.206294</td>\n",
              "      <td>0.004131</td>\n",
              "      <td>1.050298</td>\n",
              "      <td>0.191351</td>\n",
              "    </tr>\n",
              "    <tr>\n",
              "      <th>16</th>\n",
              "      <td>(Indomie Goreng Spesial)</td>\n",
              "      <td>(Indomie Baso Sapi)</td>\n",
              "      <td>0.115942</td>\n",
              "      <td>0.106280</td>\n",
              "      <td>0.019324</td>\n",
              "      <td>0.166667</td>\n",
              "      <td>1.568182</td>\n",
              "      <td>0.007001</td>\n",
              "      <td>1.072464</td>\n",
              "      <td>0.409836</td>\n",
              "    </tr>\n",
              "    <tr>\n",
              "      <th>145</th>\n",
              "      <td>(Indomie Rasa Soto Banjar Limau Kuit)</td>\n",
              "      <td>(Indomie Goreng Spesial, Indomie Rasa Soto Bet...</td>\n",
              "      <td>0.188406</td>\n",
              "      <td>0.033816</td>\n",
              "      <td>0.014493</td>\n",
              "      <td>0.076923</td>\n",
              "      <td>2.274725</td>\n",
              "      <td>0.008122</td>\n",
              "      <td>1.046699</td>\n",
              "      <td>0.690476</td>\n",
              "    </tr>\n",
              "    <tr>\n",
              "      <th>152</th>\n",
              "      <td>(Indomie Rasa Soto Padang)</td>\n",
              "      <td>(Indomie Rasa Mi Kocok Bandung, indomie Kari A...</td>\n",
              "      <td>0.120773</td>\n",
              "      <td>0.028986</td>\n",
              "      <td>0.014493</td>\n",
              "      <td>0.120000</td>\n",
              "      <td>4.140000</td>\n",
              "      <td>0.010992</td>\n",
              "      <td>1.103426</td>\n",
              "      <td>0.862637</td>\n",
              "    </tr>\n",
              "    <tr>\n",
              "      <th>114</th>\n",
              "      <td>(Indomie Rasa Soto Padang)</td>\n",
              "      <td>(Indomie Soto Mie)</td>\n",
              "      <td>0.120773</td>\n",
              "      <td>0.091787</td>\n",
              "      <td>0.019324</td>\n",
              "      <td>0.160000</td>\n",
              "      <td>1.743158</td>\n",
              "      <td>0.008238</td>\n",
              "      <td>1.081205</td>\n",
              "      <td>0.484890</td>\n",
              "    </tr>\n",
              "  </tbody>\n",
              "</table>\n",
              "</div>"
            ],
            "text/plain": [
              "                                           antecedents  \\\n",
              "119       (indomie Kari Ayam, Indomie Goreng Cabe Ijo)   \n",
              "135                                (indomie Kari Ayam)   \n",
              "51                          (Indomie Rasa Soto Padang)   \n",
              "115                                 (Indomie Soto Mie)   \n",
              "167  (Indomie Rasa Soto Padang, Indomie Rasa Soto B...   \n",
              "168       (Indomie Rasa Soto Betawi, Indomie Soto Mie)   \n",
              "1                               (Indomie Ayam Spesial)   \n",
              "38                           (Indomie Goreng Cabe Ijo)   \n",
              "87                        (Indomie Rasa Soto Lamongan)   \n",
              "61                            (Indomie Goreng Spesial)   \n",
              "84                          (Indomie Rasa Soto Padang)   \n",
              "52                              (Indomie Goreng Pedas)   \n",
              "95                           (Indomie Rasa Sop Buntut)   \n",
              "58                            (Indomie Goreng Rendang)   \n",
              "8                               (Indomie Ayam Spesial)   \n",
              "21                                 (Indomie Baso Sapi)   \n",
              "16                            (Indomie Goreng Spesial)   \n",
              "145              (Indomie Rasa Soto Banjar Limau Kuit)   \n",
              "152                         (Indomie Rasa Soto Padang)   \n",
              "114                         (Indomie Rasa Soto Padang)   \n",
              "\n",
              "                                           consequents  antecedent support  \\\n",
              "119                                (Indomie Baso Sapi)            0.028986   \n",
              "135  (Indomie Rasa Mi Kocok Bandung, Indomie Baso S...            0.149758   \n",
              "51                              (Indomie Goreng Pedas)            0.120773   \n",
              "115                         (Indomie Rasa Soto Padang)            0.091787   \n",
              "167                                 (Indomie Soto Mie)            0.038647   \n",
              "168                         (Indomie Rasa Soto Padang)            0.014493   \n",
              "1                        (Indomie Goreng Sambal Matah)            0.115942   \n",
              "38                          (Indomie Rasa Soto Betawi)            0.144928   \n",
              "87                     (Indomie Rasa Mi Kocok Bandung)            0.135266   \n",
              "61                       (Indomie Goreng Sambal Matah)            0.115942   \n",
              "84                        (Indomie Rasa Empal Gentong)            0.120773   \n",
              "52                               (indomie Ayam Bawang)            0.115942   \n",
              "95               (Indomie Rasa Soto Banjar Limau Kuit)            0.115942   \n",
              "58                          (Indomie Rasa Soto Betawi)            0.091787   \n",
              "8                                   (Indomie Soto Mie)            0.115942   \n",
              "21               (Indomie Rasa Soto Banjar Limau Kuit)            0.106280   \n",
              "16                                 (Indomie Baso Sapi)            0.115942   \n",
              "145  (Indomie Goreng Spesial, Indomie Rasa Soto Bet...            0.188406   \n",
              "152  (Indomie Rasa Mi Kocok Bandung, indomie Kari A...            0.120773   \n",
              "114                                 (Indomie Soto Mie)            0.120773   \n",
              "\n",
              "     consequent support   support  confidence      lift  leverage  conviction  \\\n",
              "119            0.106280  0.014493    0.500000  4.704545  0.011412    1.787440   \n",
              "135            0.028986  0.014493    0.096774  3.338710  0.010152    1.075052   \n",
              "51             0.115942  0.014493    0.120000  1.035000  0.000490    1.004611   \n",
              "115            0.120773  0.019324    0.210526  1.743158  0.008238    1.113688   \n",
              "167            0.091787  0.014493    0.375000  4.085526  0.010945    1.453140   \n",
              "168            0.120773  0.014493    1.000000  8.280000  0.012742         inf   \n",
              "1              0.101449  0.014493    0.125000  1.232143  0.002731    1.026915   \n",
              "38             0.183575  0.028986    0.200000  1.089474  0.002380    1.020531   \n",
              "87             0.125604  0.019324    0.142857  1.137363  0.002334    1.020129   \n",
              "61             0.101449  0.014493    0.125000  1.232143  0.002731    1.026915   \n",
              "84             0.149758  0.024155    0.200000  1.335484  0.006068    1.062802   \n",
              "52             0.120773  0.028986    0.250000  2.070000  0.014983    1.172303   \n",
              "95             0.188406  0.024155    0.208333  1.105769  0.002310    1.025172   \n",
              "58             0.183575  0.019324    0.210526  1.146814  0.002474    1.034138   \n",
              "8              0.091787  0.014493    0.125000  1.361842  0.003851    1.037957   \n",
              "21             0.188406  0.024155    0.227273  1.206294  0.004131    1.050298   \n",
              "16             0.106280  0.019324    0.166667  1.568182  0.007001    1.072464   \n",
              "145            0.033816  0.014493    0.076923  2.274725  0.008122    1.046699   \n",
              "152            0.028986  0.014493    0.120000  4.140000  0.010992    1.103426   \n",
              "114            0.091787  0.019324    0.160000  1.743158  0.008238    1.081205   \n",
              "\n",
              "     zhangs_metric  \n",
              "119       0.810945  \n",
              "135       0.823864  \n",
              "51        0.038462  \n",
              "115       0.469415  \n",
              "167       0.785595  \n",
              "168       0.892157  \n",
              "1         0.213115  \n",
              "38        0.096045  \n",
              "87        0.139665  \n",
              "61        0.213115  \n",
              "84        0.285714  \n",
              "52        0.584699  \n",
              "95        0.108197  \n",
              "58        0.140957  \n",
              "8         0.300546  \n",
              "21        0.191351  \n",
              "16        0.409836  \n",
              "145       0.690476  \n",
              "152       0.862637  \n",
              "114       0.484890  "
            ]
          },
          "execution_count": 48,
          "metadata": {},
          "output_type": "execute_result"
        }
      ],
      "source": [
        "metrix.sample(20)"
      ]
    },
    {
      "cell_type": "code",
      "execution_count": 49,
      "metadata": {
        "colab": {
          "base_uri": "https://localhost:8080/",
          "height": 670
        },
        "id": "rEaqeZ3Sn2p5",
        "outputId": "b4136bee-93cf-482d-bf9a-f4a366796235"
      },
      "outputs": [
        {
          "data": {
            "text/html": [
              "<div>\n",
              "<style scoped>\n",
              "    .dataframe tbody tr th:only-of-type {\n",
              "        vertical-align: middle;\n",
              "    }\n",
              "\n",
              "    .dataframe tbody tr th {\n",
              "        vertical-align: top;\n",
              "    }\n",
              "\n",
              "    .dataframe thead th {\n",
              "        text-align: right;\n",
              "    }\n",
              "</style>\n",
              "<table border=\"1\" class=\"dataframe\">\n",
              "  <thead>\n",
              "    <tr style=\"text-align: right;\">\n",
              "      <th></th>\n",
              "      <th>support</th>\n",
              "      <th>itemsets</th>\n",
              "    </tr>\n",
              "  </thead>\n",
              "  <tbody>\n",
              "    <tr>\n",
              "      <th>0</th>\n",
              "      <td>0.115942</td>\n",
              "      <td>(Indomie Ayam Spesial)</td>\n",
              "    </tr>\n",
              "    <tr>\n",
              "      <th>1</th>\n",
              "      <td>0.106280</td>\n",
              "      <td>(Indomie Baso Sapi)</td>\n",
              "    </tr>\n",
              "    <tr>\n",
              "      <th>2</th>\n",
              "      <td>0.106280</td>\n",
              "      <td>(Indomie Goreng Aceh)</td>\n",
              "    </tr>\n",
              "    <tr>\n",
              "      <th>3</th>\n",
              "      <td>0.144928</td>\n",
              "      <td>(Indomie Goreng Cabe Ijo)</td>\n",
              "    </tr>\n",
              "    <tr>\n",
              "      <th>4</th>\n",
              "      <td>0.115942</td>\n",
              "      <td>(Indomie Goreng Pedas)</td>\n",
              "    </tr>\n",
              "    <tr>\n",
              "      <th>5</th>\n",
              "      <td>0.091787</td>\n",
              "      <td>(Indomie Goreng Rendang)</td>\n",
              "    </tr>\n",
              "    <tr>\n",
              "      <th>6</th>\n",
              "      <td>0.101449</td>\n",
              "      <td>(Indomie Goreng Sambal Matah)</td>\n",
              "    </tr>\n",
              "    <tr>\n",
              "      <th>7</th>\n",
              "      <td>0.115942</td>\n",
              "      <td>(Indomie Goreng Spesial)</td>\n",
              "    </tr>\n",
              "    <tr>\n",
              "      <th>8</th>\n",
              "      <td>0.149758</td>\n",
              "      <td>(Indomie Rasa Empal Gentong)</td>\n",
              "    </tr>\n",
              "    <tr>\n",
              "      <th>9</th>\n",
              "      <td>0.125604</td>\n",
              "      <td>(Indomie Rasa Mi Kocok Bandung)</td>\n",
              "    </tr>\n",
              "    <tr>\n",
              "      <th>10</th>\n",
              "      <td>0.115942</td>\n",
              "      <td>(Indomie Rasa Sop Buntut)</td>\n",
              "    </tr>\n",
              "    <tr>\n",
              "      <th>11</th>\n",
              "      <td>0.188406</td>\n",
              "      <td>(Indomie Rasa Soto Banjar Limau Kuit)</td>\n",
              "    </tr>\n",
              "    <tr>\n",
              "      <th>12</th>\n",
              "      <td>0.183575</td>\n",
              "      <td>(Indomie Rasa Soto Betawi)</td>\n",
              "    </tr>\n",
              "    <tr>\n",
              "      <th>13</th>\n",
              "      <td>0.135266</td>\n",
              "      <td>(Indomie Rasa Soto Lamongan)</td>\n",
              "    </tr>\n",
              "    <tr>\n",
              "      <th>14</th>\n",
              "      <td>0.120773</td>\n",
              "      <td>(Indomie Rasa Soto Padang)</td>\n",
              "    </tr>\n",
              "    <tr>\n",
              "      <th>15</th>\n",
              "      <td>0.091787</td>\n",
              "      <td>(Indomie Soto Mie)</td>\n",
              "    </tr>\n",
              "    <tr>\n",
              "      <th>16</th>\n",
              "      <td>0.120773</td>\n",
              "      <td>(indomie Ayam Bawang)</td>\n",
              "    </tr>\n",
              "    <tr>\n",
              "      <th>17</th>\n",
              "      <td>0.149758</td>\n",
              "      <td>(indomie Kari Ayam)</td>\n",
              "    </tr>\n",
              "  </tbody>\n",
              "</table>\n",
              "</div>"
            ],
            "text/plain": [
              "     support                               itemsets\n",
              "0   0.115942                 (Indomie Ayam Spesial)\n",
              "1   0.106280                    (Indomie Baso Sapi)\n",
              "2   0.106280                  (Indomie Goreng Aceh)\n",
              "3   0.144928              (Indomie Goreng Cabe Ijo)\n",
              "4   0.115942                 (Indomie Goreng Pedas)\n",
              "5   0.091787               (Indomie Goreng Rendang)\n",
              "6   0.101449          (Indomie Goreng Sambal Matah)\n",
              "7   0.115942               (Indomie Goreng Spesial)\n",
              "8   0.149758           (Indomie Rasa Empal Gentong)\n",
              "9   0.125604        (Indomie Rasa Mi Kocok Bandung)\n",
              "10  0.115942              (Indomie Rasa Sop Buntut)\n",
              "11  0.188406  (Indomie Rasa Soto Banjar Limau Kuit)\n",
              "12  0.183575             (Indomie Rasa Soto Betawi)\n",
              "13  0.135266           (Indomie Rasa Soto Lamongan)\n",
              "14  0.120773             (Indomie Rasa Soto Padang)\n",
              "15  0.091787                     (Indomie Soto Mie)\n",
              "16  0.120773                  (indomie Ayam Bawang)\n",
              "17  0.149758                    (indomie Kari Ayam)"
            ]
          },
          "execution_count": 49,
          "metadata": {},
          "output_type": "execute_result"
        }
      ],
      "source": [
        "frequent_itemsets = apriori(df2, min_support = 0.05, use_colnames = True)\n",
        "frequent_itemsets"
      ]
    },
    {
      "cell_type": "markdown",
      "metadata": {
        "id": "KMIYZQhbX1Q0"
      },
      "source": [
        "## MARKET BASKET ANALYSIS\n",
        "(analisa dari jenis pembayaran di warmindo)"
      ]
    },
    {
      "cell_type": "code",
      "execution_count": 50,
      "metadata": {
        "colab": {
          "base_uri": "https://localhost:8080/"
        },
        "id": "trMSTCNiYPCY",
        "outputId": "e77c2d46-5504-49da-8898-e3d9222d0cd1"
      },
      "outputs": [
        {
          "name": "stdout",
          "output_type": "stream",
          "text": [
            "207\n"
          ]
        }
      ],
      "source": [
        "transaction_list = []\n",
        "\n",
        "# For loop to create a list of the unique transactions throughout the dataset:\n",
        "for i in df['tanggal_transaksi'].unique():\n",
        "    tlist = list(set(df[df['tanggal_transaksi']==i]['jenis_pembayaran']))\n",
        "    if len(tlist)>0:\n",
        "        transaction_list.append(tlist)\n",
        "print(len(transaction_list))"
      ]
    },
    {
      "cell_type": "code",
      "execution_count": 51,
      "metadata": {
        "colab": {
          "base_uri": "https://localhost:8080/"
        },
        "id": "S8RA8uTWYeTM",
        "outputId": "fb899bfd-64af-40e8-b59b-3591bd5f5fdd"
      },
      "outputs": [],
      "source": [
        "te = TransactionEncoder()\n",
        "te_ary = te.fit(transaction_list).transform(transaction_list)\n",
        "df2 = pd.DataFrame(te_ary, columns=te.columns_)"
      ]
    },
    {
      "cell_type": "code",
      "execution_count": 52,
      "metadata": {
        "colab": {
          "base_uri": "https://localhost:8080/",
          "height": 480
        },
        "id": "X7QE7P_bYpQI",
        "outputId": "61965e93-af85-4402-d7f6-14acafa497d0"
      },
      "outputs": [
        {
          "data": {
            "text/html": [
              "<div>\n",
              "<style scoped>\n",
              "    .dataframe tbody tr th:only-of-type {\n",
              "        vertical-align: middle;\n",
              "    }\n",
              "\n",
              "    .dataframe tbody tr th {\n",
              "        vertical-align: top;\n",
              "    }\n",
              "\n",
              "    .dataframe thead th {\n",
              "        text-align: right;\n",
              "    }\n",
              "</style>\n",
              "<table border=\"1\" class=\"dataframe\">\n",
              "  <thead>\n",
              "    <tr style=\"text-align: right;\">\n",
              "      <th></th>\n",
              "      <th>CASH</th>\n",
              "      <th>QRIS-DANA</th>\n",
              "      <th>QRIS-GOPAY</th>\n",
              "      <th>QRIS-OTHERS</th>\n",
              "      <th>QRIS-OVO</th>\n",
              "      <th>QRIS-SHOPEEPAY</th>\n",
              "    </tr>\n",
              "  </thead>\n",
              "  <tbody>\n",
              "    <tr>\n",
              "      <th>0</th>\n",
              "      <td>False</td>\n",
              "      <td>True</td>\n",
              "      <td>True</td>\n",
              "      <td>True</td>\n",
              "      <td>True</td>\n",
              "      <td>False</td>\n",
              "    </tr>\n",
              "    <tr>\n",
              "      <th>1</th>\n",
              "      <td>True</td>\n",
              "      <td>False</td>\n",
              "      <td>True</td>\n",
              "      <td>False</td>\n",
              "      <td>False</td>\n",
              "      <td>False</td>\n",
              "    </tr>\n",
              "    <tr>\n",
              "      <th>2</th>\n",
              "      <td>False</td>\n",
              "      <td>False</td>\n",
              "      <td>False</td>\n",
              "      <td>True</td>\n",
              "      <td>False</td>\n",
              "      <td>False</td>\n",
              "    </tr>\n",
              "    <tr>\n",
              "      <th>3</th>\n",
              "      <td>True</td>\n",
              "      <td>False</td>\n",
              "      <td>False</td>\n",
              "      <td>False</td>\n",
              "      <td>False</td>\n",
              "      <td>True</td>\n",
              "    </tr>\n",
              "    <tr>\n",
              "      <th>4</th>\n",
              "      <td>False</td>\n",
              "      <td>False</td>\n",
              "      <td>False</td>\n",
              "      <td>True</td>\n",
              "      <td>True</td>\n",
              "      <td>False</td>\n",
              "    </tr>\n",
              "    <tr>\n",
              "      <th>...</th>\n",
              "      <td>...</td>\n",
              "      <td>...</td>\n",
              "      <td>...</td>\n",
              "      <td>...</td>\n",
              "      <td>...</td>\n",
              "      <td>...</td>\n",
              "    </tr>\n",
              "    <tr>\n",
              "      <th>202</th>\n",
              "      <td>False</td>\n",
              "      <td>False</td>\n",
              "      <td>False</td>\n",
              "      <td>False</td>\n",
              "      <td>False</td>\n",
              "      <td>True</td>\n",
              "    </tr>\n",
              "    <tr>\n",
              "      <th>203</th>\n",
              "      <td>False</td>\n",
              "      <td>False</td>\n",
              "      <td>True</td>\n",
              "      <td>False</td>\n",
              "      <td>False</td>\n",
              "      <td>False</td>\n",
              "    </tr>\n",
              "    <tr>\n",
              "      <th>204</th>\n",
              "      <td>False</td>\n",
              "      <td>True</td>\n",
              "      <td>False</td>\n",
              "      <td>False</td>\n",
              "      <td>False</td>\n",
              "      <td>False</td>\n",
              "    </tr>\n",
              "    <tr>\n",
              "      <th>205</th>\n",
              "      <td>False</td>\n",
              "      <td>False</td>\n",
              "      <td>True</td>\n",
              "      <td>False</td>\n",
              "      <td>False</td>\n",
              "      <td>False</td>\n",
              "    </tr>\n",
              "    <tr>\n",
              "      <th>206</th>\n",
              "      <td>False</td>\n",
              "      <td>False</td>\n",
              "      <td>False</td>\n",
              "      <td>False</td>\n",
              "      <td>True</td>\n",
              "      <td>False</td>\n",
              "    </tr>\n",
              "  </tbody>\n",
              "</table>\n",
              "<p>207 rows × 6 columns</p>\n",
              "</div>"
            ],
            "text/plain": [
              "      CASH  QRIS-DANA  QRIS-GOPAY  QRIS-OTHERS  QRIS-OVO  QRIS-SHOPEEPAY\n",
              "0    False       True        True         True      True           False\n",
              "1     True      False        True        False     False           False\n",
              "2    False      False       False         True     False           False\n",
              "3     True      False       False        False     False            True\n",
              "4    False      False       False         True      True           False\n",
              "..     ...        ...         ...          ...       ...             ...\n",
              "202  False      False       False        False     False            True\n",
              "203  False      False        True        False     False           False\n",
              "204  False       True       False        False     False           False\n",
              "205  False      False        True        False     False           False\n",
              "206  False      False       False        False      True           False\n",
              "\n",
              "[207 rows x 6 columns]"
            ]
          },
          "execution_count": 52,
          "metadata": {},
          "output_type": "execute_result"
        }
      ],
      "source": [
        "df2"
      ]
    },
    {
      "cell_type": "code",
      "execution_count": 53,
      "metadata": {
        "colab": {
          "base_uri": "https://localhost:8080/",
          "height": 480
        },
        "id": "aEaSTYwmYwK3",
        "outputId": "219c0e7f-9509-44db-d7b5-68e3229a1b3a"
      },
      "outputs": [
        {
          "data": {
            "text/html": [
              "<div>\n",
              "<style scoped>\n",
              "    .dataframe tbody tr th:only-of-type {\n",
              "        vertical-align: middle;\n",
              "    }\n",
              "\n",
              "    .dataframe tbody tr th {\n",
              "        vertical-align: top;\n",
              "    }\n",
              "\n",
              "    .dataframe thead th {\n",
              "        text-align: right;\n",
              "    }\n",
              "</style>\n",
              "<table border=\"1\" class=\"dataframe\">\n",
              "  <thead>\n",
              "    <tr style=\"text-align: right;\">\n",
              "      <th></th>\n",
              "      <th>antecedents</th>\n",
              "      <th>consequents</th>\n",
              "      <th>support</th>\n",
              "      <th>confidence</th>\n",
              "      <th>lift</th>\n",
              "    </tr>\n",
              "  </thead>\n",
              "  <tbody>\n",
              "    <tr>\n",
              "      <th>179</th>\n",
              "      <td>(QRIS-OVO, QRIS-OTHERS, QRIS-DANA)</td>\n",
              "      <td>(QRIS-GOPAY, QRIS-SHOPEEPAY)</td>\n",
              "      <td>0.014493</td>\n",
              "      <td>0.600000</td>\n",
              "      <td>8.871429</td>\n",
              "    </tr>\n",
              "    <tr>\n",
              "      <th>196</th>\n",
              "      <td>(QRIS-GOPAY, QRIS-SHOPEEPAY)</td>\n",
              "      <td>(QRIS-OVO, QRIS-OTHERS, QRIS-DANA)</td>\n",
              "      <td>0.014493</td>\n",
              "      <td>0.214286</td>\n",
              "      <td>8.871429</td>\n",
              "    </tr>\n",
              "    <tr>\n",
              "      <th>193</th>\n",
              "      <td>(QRIS-OVO, QRIS-OTHERS)</td>\n",
              "      <td>(QRIS-GOPAY, QRIS-SHOPEEPAY, QRIS-DANA)</td>\n",
              "      <td>0.014493</td>\n",
              "      <td>0.136364</td>\n",
              "      <td>7.056818</td>\n",
              "    </tr>\n",
              "    <tr>\n",
              "      <th>182</th>\n",
              "      <td>(QRIS-GOPAY, QRIS-SHOPEEPAY, QRIS-DANA)</td>\n",
              "      <td>(QRIS-OVO, QRIS-OTHERS)</td>\n",
              "      <td>0.014493</td>\n",
              "      <td>0.750000</td>\n",
              "      <td>7.056818</td>\n",
              "    </tr>\n",
              "    <tr>\n",
              "      <th>181</th>\n",
              "      <td>(QRIS-OTHERS, QRIS-SHOPEEPAY, QRIS-DANA)</td>\n",
              "      <td>(QRIS-OVO, QRIS-GOPAY)</td>\n",
              "      <td>0.014493</td>\n",
              "      <td>0.600000</td>\n",
              "      <td>5.175000</td>\n",
              "    </tr>\n",
              "    <tr>\n",
              "      <th>...</th>\n",
              "      <td>...</td>\n",
              "      <td>...</td>\n",
              "      <td>...</td>\n",
              "      <td>...</td>\n",
              "      <td>...</td>\n",
              "    </tr>\n",
              "    <tr>\n",
              "      <th>27</th>\n",
              "      <td>(QRIS-GOPAY, QRIS-DANA)</td>\n",
              "      <td>(QRIS-OTHERS)</td>\n",
              "      <td>0.038647</td>\n",
              "      <td>0.320000</td>\n",
              "      <td>1.003636</td>\n",
              "    </tr>\n",
              "    <tr>\n",
              "      <th>28</th>\n",
              "      <td>(QRIS-OTHERS)</td>\n",
              "      <td>(QRIS-GOPAY, QRIS-DANA)</td>\n",
              "      <td>0.038647</td>\n",
              "      <td>0.121212</td>\n",
              "      <td>1.003636</td>\n",
              "    </tr>\n",
              "    <tr>\n",
              "      <th>1</th>\n",
              "      <td>(QRIS-DANA)</td>\n",
              "      <td>(CASH)</td>\n",
              "      <td>0.140097</td>\n",
              "      <td>0.420290</td>\n",
              "      <td>1.000000</td>\n",
              "    </tr>\n",
              "    <tr>\n",
              "      <th>0</th>\n",
              "      <td>(CASH)</td>\n",
              "      <td>(QRIS-DANA)</td>\n",
              "      <td>0.140097</td>\n",
              "      <td>0.333333</td>\n",
              "      <td>1.000000</td>\n",
              "    </tr>\n",
              "    <tr>\n",
              "      <th>14</th>\n",
              "      <td>(CASH, QRIS-OTHERS)</td>\n",
              "      <td>(QRIS-DANA)</td>\n",
              "      <td>0.033816</td>\n",
              "      <td>0.333333</td>\n",
              "      <td>1.000000</td>\n",
              "    </tr>\n",
              "  </tbody>\n",
              "</table>\n",
              "<p>203 rows × 5 columns</p>\n",
              "</div>"
            ],
            "text/plain": [
              "                                  antecedents  \\\n",
              "179        (QRIS-OVO, QRIS-OTHERS, QRIS-DANA)   \n",
              "196              (QRIS-GOPAY, QRIS-SHOPEEPAY)   \n",
              "193                   (QRIS-OVO, QRIS-OTHERS)   \n",
              "182   (QRIS-GOPAY, QRIS-SHOPEEPAY, QRIS-DANA)   \n",
              "181  (QRIS-OTHERS, QRIS-SHOPEEPAY, QRIS-DANA)   \n",
              "..                                        ...   \n",
              "27                    (QRIS-GOPAY, QRIS-DANA)   \n",
              "28                              (QRIS-OTHERS)   \n",
              "1                                 (QRIS-DANA)   \n",
              "0                                      (CASH)   \n",
              "14                        (CASH, QRIS-OTHERS)   \n",
              "\n",
              "                                 consequents   support  confidence      lift  \n",
              "179             (QRIS-GOPAY, QRIS-SHOPEEPAY)  0.014493    0.600000  8.871429  \n",
              "196       (QRIS-OVO, QRIS-OTHERS, QRIS-DANA)  0.014493    0.214286  8.871429  \n",
              "193  (QRIS-GOPAY, QRIS-SHOPEEPAY, QRIS-DANA)  0.014493    0.136364  7.056818  \n",
              "182                  (QRIS-OVO, QRIS-OTHERS)  0.014493    0.750000  7.056818  \n",
              "181                   (QRIS-OVO, QRIS-GOPAY)  0.014493    0.600000  5.175000  \n",
              "..                                       ...       ...         ...       ...  \n",
              "27                             (QRIS-OTHERS)  0.038647    0.320000  1.003636  \n",
              "28                   (QRIS-GOPAY, QRIS-DANA)  0.038647    0.121212  1.003636  \n",
              "1                                     (CASH)  0.140097    0.420290  1.000000  \n",
              "0                                (QRIS-DANA)  0.140097    0.333333  1.000000  \n",
              "14                               (QRIS-DANA)  0.033816    0.333333  1.000000  \n",
              "\n",
              "[203 rows x 5 columns]"
            ]
          },
          "execution_count": 53,
          "metadata": {},
          "output_type": "execute_result"
        }
      ],
      "source": [
        "frequent_itemsets = apriori(df2, min_support=0.01, use_colnames=True)\n",
        "rules = association_rules(frequent_itemsets, metric='lift', min_threshold=1.0)\n",
        "metrix = pd.DataFrame(rules)\n",
        "metrix[['antecedents','consequents', 'support', 'confidence', 'lift']].sort_values('lift', ascending=False)"
      ]
    },
    {
      "cell_type": "code",
      "execution_count": 54,
      "metadata": {
        "colab": {
          "base_uri": "https://localhost:8080/",
          "height": 854
        },
        "id": "lKhODn8HY5uL",
        "outputId": "9af7a62b-6ab0-4f44-d7f6-190698997613"
      },
      "outputs": [
        {
          "data": {
            "text/html": [
              "<div>\n",
              "<style scoped>\n",
              "    .dataframe tbody tr th:only-of-type {\n",
              "        vertical-align: middle;\n",
              "    }\n",
              "\n",
              "    .dataframe tbody tr th {\n",
              "        vertical-align: top;\n",
              "    }\n",
              "\n",
              "    .dataframe thead th {\n",
              "        text-align: right;\n",
              "    }\n",
              "</style>\n",
              "<table border=\"1\" class=\"dataframe\">\n",
              "  <thead>\n",
              "    <tr style=\"text-align: right;\">\n",
              "      <th></th>\n",
              "      <th>antecedents</th>\n",
              "      <th>consequents</th>\n",
              "      <th>antecedent support</th>\n",
              "      <th>consequent support</th>\n",
              "      <th>support</th>\n",
              "      <th>confidence</th>\n",
              "      <th>lift</th>\n",
              "      <th>leverage</th>\n",
              "      <th>conviction</th>\n",
              "      <th>zhangs_metric</th>\n",
              "    </tr>\n",
              "  </thead>\n",
              "  <tbody>\n",
              "    <tr>\n",
              "      <th>17</th>\n",
              "      <td>(CASH, QRIS-SHOPEEPAY)</td>\n",
              "      <td>(QRIS-DANA)</td>\n",
              "      <td>0.096618</td>\n",
              "      <td>0.333333</td>\n",
              "      <td>0.033816</td>\n",
              "      <td>0.350000</td>\n",
              "      <td>1.050000</td>\n",
              "      <td>0.001610</td>\n",
              "      <td>1.025641</td>\n",
              "      <td>0.052712</td>\n",
              "    </tr>\n",
              "    <tr>\n",
              "      <th>19</th>\n",
              "      <td>(CASH, QRIS-GOPAY)</td>\n",
              "      <td>(QRIS-OVO)</td>\n",
              "      <td>0.125604</td>\n",
              "      <td>0.362319</td>\n",
              "      <td>0.048309</td>\n",
              "      <td>0.384615</td>\n",
              "      <td>1.061538</td>\n",
              "      <td>0.002801</td>\n",
              "      <td>1.036232</td>\n",
              "      <td>0.066298</td>\n",
              "    </tr>\n",
              "    <tr>\n",
              "      <th>83</th>\n",
              "      <td>(CASH, QRIS-OVO)</td>\n",
              "      <td>(QRIS-SHOPEEPAY, QRIS-DANA)</td>\n",
              "      <td>0.188406</td>\n",
              "      <td>0.082126</td>\n",
              "      <td>0.019324</td>\n",
              "      <td>0.102564</td>\n",
              "      <td>1.248869</td>\n",
              "      <td>0.003851</td>\n",
              "      <td>1.022774</td>\n",
              "      <td>0.245536</td>\n",
              "    </tr>\n",
              "    <tr>\n",
              "      <th>109</th>\n",
              "      <td>(QRIS-OVO, QRIS-DANA)</td>\n",
              "      <td>(QRIS-OTHERS, QRIS-GOPAY)</td>\n",
              "      <td>0.106280</td>\n",
              "      <td>0.101449</td>\n",
              "      <td>0.019324</td>\n",
              "      <td>0.181818</td>\n",
              "      <td>1.792208</td>\n",
              "      <td>0.008542</td>\n",
              "      <td>1.098229</td>\n",
              "      <td>0.494595</td>\n",
              "    </tr>\n",
              "    <tr>\n",
              "      <th>31</th>\n",
              "      <td>(QRIS-OVO, QRIS-GOPAY)</td>\n",
              "      <td>(QRIS-DANA)</td>\n",
              "      <td>0.115942</td>\n",
              "      <td>0.333333</td>\n",
              "      <td>0.048309</td>\n",
              "      <td>0.416667</td>\n",
              "      <td>1.250000</td>\n",
              "      <td>0.009662</td>\n",
              "      <td>1.142857</td>\n",
              "      <td>0.226230</td>\n",
              "    </tr>\n",
              "    <tr>\n",
              "      <th>7</th>\n",
              "      <td>(QRIS-SHOPEEPAY)</td>\n",
              "      <td>(QRIS-OVO)</td>\n",
              "      <td>0.285024</td>\n",
              "      <td>0.362319</td>\n",
              "      <td>0.106280</td>\n",
              "      <td>0.372881</td>\n",
              "      <td>1.029153</td>\n",
              "      <td>0.003011</td>\n",
              "      <td>1.016843</td>\n",
              "      <td>0.039619</td>\n",
              "    </tr>\n",
              "    <tr>\n",
              "      <th>84</th>\n",
              "      <td>(CASH, QRIS-SHOPEEPAY)</td>\n",
              "      <td>(QRIS-OVO, QRIS-DANA)</td>\n",
              "      <td>0.096618</td>\n",
              "      <td>0.106280</td>\n",
              "      <td>0.019324</td>\n",
              "      <td>0.200000</td>\n",
              "      <td>1.881818</td>\n",
              "      <td>0.009055</td>\n",
              "      <td>1.117150</td>\n",
              "      <td>0.518717</td>\n",
              "    </tr>\n",
              "    <tr>\n",
              "      <th>158</th>\n",
              "      <td>(QRIS-DANA)</td>\n",
              "      <td>(QRIS-OVO, QRIS-OTHERS, QRIS-SHOPEEPAY)</td>\n",
              "      <td>0.333333</td>\n",
              "      <td>0.043478</td>\n",
              "      <td>0.019324</td>\n",
              "      <td>0.057971</td>\n",
              "      <td>1.333333</td>\n",
              "      <td>0.004831</td>\n",
              "      <td>1.015385</td>\n",
              "      <td>0.375000</td>\n",
              "    </tr>\n",
              "    <tr>\n",
              "      <th>77</th>\n",
              "      <td>(CASH, QRIS-GOPAY)</td>\n",
              "      <td>(QRIS-OVO, QRIS-DANA)</td>\n",
              "      <td>0.125604</td>\n",
              "      <td>0.106280</td>\n",
              "      <td>0.014493</td>\n",
              "      <td>0.115385</td>\n",
              "      <td>1.085664</td>\n",
              "      <td>0.001144</td>\n",
              "      <td>1.010292</td>\n",
              "      <td>0.090239</td>\n",
              "    </tr>\n",
              "    <tr>\n",
              "      <th>111</th>\n",
              "      <td>(QRIS-OTHERS, QRIS-DANA)</td>\n",
              "      <td>(QRIS-OVO, QRIS-GOPAY)</td>\n",
              "      <td>0.091787</td>\n",
              "      <td>0.115942</td>\n",
              "      <td>0.019324</td>\n",
              "      <td>0.210526</td>\n",
              "      <td>1.815789</td>\n",
              "      <td>0.008682</td>\n",
              "      <td>1.119807</td>\n",
              "      <td>0.494681</td>\n",
              "    </tr>\n",
              "    <tr>\n",
              "      <th>112</th>\n",
              "      <td>(QRIS-GOPAY, QRIS-DANA)</td>\n",
              "      <td>(QRIS-OVO, QRIS-OTHERS)</td>\n",
              "      <td>0.120773</td>\n",
              "      <td>0.106280</td>\n",
              "      <td>0.019324</td>\n",
              "      <td>0.160000</td>\n",
              "      <td>1.505455</td>\n",
              "      <td>0.006488</td>\n",
              "      <td>1.063952</td>\n",
              "      <td>0.381868</td>\n",
              "    </tr>\n",
              "    <tr>\n",
              "      <th>174</th>\n",
              "      <td>(QRIS-OVO, QRIS-GOPAY, QRIS-SHOPEEPAY, QRIS-DANA)</td>\n",
              "      <td>(QRIS-OTHERS)</td>\n",
              "      <td>0.019324</td>\n",
              "      <td>0.318841</td>\n",
              "      <td>0.014493</td>\n",
              "      <td>0.750000</td>\n",
              "      <td>2.352273</td>\n",
              "      <td>0.008332</td>\n",
              "      <td>2.724638</td>\n",
              "      <td>0.586207</td>\n",
              "    </tr>\n",
              "    <tr>\n",
              "      <th>160</th>\n",
              "      <td>(QRIS-OVO, QRIS-OTHERS, QRIS-SHOPEEPAY)</td>\n",
              "      <td>(QRIS-GOPAY)</td>\n",
              "      <td>0.043478</td>\n",
              "      <td>0.352657</td>\n",
              "      <td>0.028986</td>\n",
              "      <td>0.666667</td>\n",
              "      <td>1.890411</td>\n",
              "      <td>0.013653</td>\n",
              "      <td>1.942029</td>\n",
              "      <td>0.492424</td>\n",
              "    </tr>\n",
              "    <tr>\n",
              "      <th>181</th>\n",
              "      <td>(QRIS-OTHERS, QRIS-SHOPEEPAY, QRIS-DANA)</td>\n",
              "      <td>(QRIS-OVO, QRIS-GOPAY)</td>\n",
              "      <td>0.024155</td>\n",
              "      <td>0.115942</td>\n",
              "      <td>0.014493</td>\n",
              "      <td>0.600000</td>\n",
              "      <td>5.175000</td>\n",
              "      <td>0.011692</td>\n",
              "      <td>2.210145</td>\n",
              "      <td>0.826733</td>\n",
              "    </tr>\n",
              "    <tr>\n",
              "      <th>134</th>\n",
              "      <td>(QRIS-GOPAY, QRIS-SHOPEEPAY, QRIS-DANA)</td>\n",
              "      <td>(QRIS-OVO)</td>\n",
              "      <td>0.019324</td>\n",
              "      <td>0.362319</td>\n",
              "      <td>0.019324</td>\n",
              "      <td>1.000000</td>\n",
              "      <td>2.760000</td>\n",
              "      <td>0.012322</td>\n",
              "      <td>inf</td>\n",
              "      <td>0.650246</td>\n",
              "    </tr>\n",
              "    <tr>\n",
              "      <th>116</th>\n",
              "      <td>(QRIS-DANA)</td>\n",
              "      <td>(QRIS-OVO, QRIS-OTHERS, QRIS-GOPAY)</td>\n",
              "      <td>0.333333</td>\n",
              "      <td>0.043478</td>\n",
              "      <td>0.019324</td>\n",
              "      <td>0.057971</td>\n",
              "      <td>1.333333</td>\n",
              "      <td>0.004831</td>\n",
              "      <td>1.015385</td>\n",
              "      <td>0.375000</td>\n",
              "    </tr>\n",
              "    <tr>\n",
              "      <th>178</th>\n",
              "      <td>(QRIS-OVO, QRIS-SHOPEEPAY, QRIS-DANA)</td>\n",
              "      <td>(QRIS-OTHERS, QRIS-GOPAY)</td>\n",
              "      <td>0.038647</td>\n",
              "      <td>0.101449</td>\n",
              "      <td>0.014493</td>\n",
              "      <td>0.375000</td>\n",
              "      <td>3.696429</td>\n",
              "      <td>0.010572</td>\n",
              "      <td>1.437681</td>\n",
              "      <td>0.758794</td>\n",
              "    </tr>\n",
              "    <tr>\n",
              "      <th>165</th>\n",
              "      <td>(QRIS-OVO, QRIS-SHOPEEPAY)</td>\n",
              "      <td>(QRIS-OTHERS, QRIS-GOPAY)</td>\n",
              "      <td>0.106280</td>\n",
              "      <td>0.101449</td>\n",
              "      <td>0.028986</td>\n",
              "      <td>0.272727</td>\n",
              "      <td>2.688312</td>\n",
              "      <td>0.018203</td>\n",
              "      <td>1.235507</td>\n",
              "      <td>0.702703</td>\n",
              "    </tr>\n",
              "    <tr>\n",
              "      <th>142</th>\n",
              "      <td>(QRIS-GOPAY)</td>\n",
              "      <td>(QRIS-OVO, QRIS-SHOPEEPAY, QRIS-DANA)</td>\n",
              "      <td>0.352657</td>\n",
              "      <td>0.038647</td>\n",
              "      <td>0.019324</td>\n",
              "      <td>0.054795</td>\n",
              "      <td>1.417808</td>\n",
              "      <td>0.005694</td>\n",
              "      <td>1.017083</td>\n",
              "      <td>0.455224</td>\n",
              "    </tr>\n",
              "    <tr>\n",
              "      <th>8</th>\n",
              "      <td>(CASH, QRIS-GOPAY)</td>\n",
              "      <td>(QRIS-DANA)</td>\n",
              "      <td>0.125604</td>\n",
              "      <td>0.333333</td>\n",
              "      <td>0.053140</td>\n",
              "      <td>0.423077</td>\n",
              "      <td>1.269231</td>\n",
              "      <td>0.011272</td>\n",
              "      <td>1.155556</td>\n",
              "      <td>0.242592</td>\n",
              "    </tr>\n",
              "  </tbody>\n",
              "</table>\n",
              "</div>"
            ],
            "text/plain": [
              "                                           antecedents  \\\n",
              "17                              (CASH, QRIS-SHOPEEPAY)   \n",
              "19                                  (CASH, QRIS-GOPAY)   \n",
              "83                                    (CASH, QRIS-OVO)   \n",
              "109                              (QRIS-OVO, QRIS-DANA)   \n",
              "31                              (QRIS-OVO, QRIS-GOPAY)   \n",
              "7                                     (QRIS-SHOPEEPAY)   \n",
              "84                              (CASH, QRIS-SHOPEEPAY)   \n",
              "158                                        (QRIS-DANA)   \n",
              "77                                  (CASH, QRIS-GOPAY)   \n",
              "111                           (QRIS-OTHERS, QRIS-DANA)   \n",
              "112                            (QRIS-GOPAY, QRIS-DANA)   \n",
              "174  (QRIS-OVO, QRIS-GOPAY, QRIS-SHOPEEPAY, QRIS-DANA)   \n",
              "160            (QRIS-OVO, QRIS-OTHERS, QRIS-SHOPEEPAY)   \n",
              "181           (QRIS-OTHERS, QRIS-SHOPEEPAY, QRIS-DANA)   \n",
              "134            (QRIS-GOPAY, QRIS-SHOPEEPAY, QRIS-DANA)   \n",
              "116                                        (QRIS-DANA)   \n",
              "178              (QRIS-OVO, QRIS-SHOPEEPAY, QRIS-DANA)   \n",
              "165                         (QRIS-OVO, QRIS-SHOPEEPAY)   \n",
              "142                                       (QRIS-GOPAY)   \n",
              "8                                   (CASH, QRIS-GOPAY)   \n",
              "\n",
              "                                 consequents  antecedent support  \\\n",
              "17                               (QRIS-DANA)            0.096618   \n",
              "19                                (QRIS-OVO)            0.125604   \n",
              "83               (QRIS-SHOPEEPAY, QRIS-DANA)            0.188406   \n",
              "109                (QRIS-OTHERS, QRIS-GOPAY)            0.106280   \n",
              "31                               (QRIS-DANA)            0.115942   \n",
              "7                                 (QRIS-OVO)            0.285024   \n",
              "84                     (QRIS-OVO, QRIS-DANA)            0.096618   \n",
              "158  (QRIS-OVO, QRIS-OTHERS, QRIS-SHOPEEPAY)            0.333333   \n",
              "77                     (QRIS-OVO, QRIS-DANA)            0.125604   \n",
              "111                   (QRIS-OVO, QRIS-GOPAY)            0.091787   \n",
              "112                  (QRIS-OVO, QRIS-OTHERS)            0.120773   \n",
              "174                            (QRIS-OTHERS)            0.019324   \n",
              "160                             (QRIS-GOPAY)            0.043478   \n",
              "181                   (QRIS-OVO, QRIS-GOPAY)            0.024155   \n",
              "134                               (QRIS-OVO)            0.019324   \n",
              "116      (QRIS-OVO, QRIS-OTHERS, QRIS-GOPAY)            0.333333   \n",
              "178                (QRIS-OTHERS, QRIS-GOPAY)            0.038647   \n",
              "165                (QRIS-OTHERS, QRIS-GOPAY)            0.106280   \n",
              "142    (QRIS-OVO, QRIS-SHOPEEPAY, QRIS-DANA)            0.352657   \n",
              "8                                (QRIS-DANA)            0.125604   \n",
              "\n",
              "     consequent support   support  confidence      lift  leverage  conviction  \\\n",
              "17             0.333333  0.033816    0.350000  1.050000  0.001610    1.025641   \n",
              "19             0.362319  0.048309    0.384615  1.061538  0.002801    1.036232   \n",
              "83             0.082126  0.019324    0.102564  1.248869  0.003851    1.022774   \n",
              "109            0.101449  0.019324    0.181818  1.792208  0.008542    1.098229   \n",
              "31             0.333333  0.048309    0.416667  1.250000  0.009662    1.142857   \n",
              "7              0.362319  0.106280    0.372881  1.029153  0.003011    1.016843   \n",
              "84             0.106280  0.019324    0.200000  1.881818  0.009055    1.117150   \n",
              "158            0.043478  0.019324    0.057971  1.333333  0.004831    1.015385   \n",
              "77             0.106280  0.014493    0.115385  1.085664  0.001144    1.010292   \n",
              "111            0.115942  0.019324    0.210526  1.815789  0.008682    1.119807   \n",
              "112            0.106280  0.019324    0.160000  1.505455  0.006488    1.063952   \n",
              "174            0.318841  0.014493    0.750000  2.352273  0.008332    2.724638   \n",
              "160            0.352657  0.028986    0.666667  1.890411  0.013653    1.942029   \n",
              "181            0.115942  0.014493    0.600000  5.175000  0.011692    2.210145   \n",
              "134            0.362319  0.019324    1.000000  2.760000  0.012322         inf   \n",
              "116            0.043478  0.019324    0.057971  1.333333  0.004831    1.015385   \n",
              "178            0.101449  0.014493    0.375000  3.696429  0.010572    1.437681   \n",
              "165            0.101449  0.028986    0.272727  2.688312  0.018203    1.235507   \n",
              "142            0.038647  0.019324    0.054795  1.417808  0.005694    1.017083   \n",
              "8              0.333333  0.053140    0.423077  1.269231  0.011272    1.155556   \n",
              "\n",
              "     zhangs_metric  \n",
              "17        0.052712  \n",
              "19        0.066298  \n",
              "83        0.245536  \n",
              "109       0.494595  \n",
              "31        0.226230  \n",
              "7         0.039619  \n",
              "84        0.518717  \n",
              "158       0.375000  \n",
              "77        0.090239  \n",
              "111       0.494681  \n",
              "112       0.381868  \n",
              "174       0.586207  \n",
              "160       0.492424  \n",
              "181       0.826733  \n",
              "134       0.650246  \n",
              "116       0.375000  \n",
              "178       0.758794  \n",
              "165       0.702703  \n",
              "142       0.455224  \n",
              "8         0.242592  "
            ]
          },
          "execution_count": 54,
          "metadata": {},
          "output_type": "execute_result"
        }
      ],
      "source": [
        "metrix.sample(20)"
      ]
    },
    {
      "cell_type": "code",
      "execution_count": 55,
      "metadata": {
        "colab": {
          "base_uri": "https://localhost:8080/",
          "height": 795
        },
        "id": "nGLkOJSeZDqj",
        "outputId": "84666185-cf27-483e-e427-afdc7c5eab76"
      },
      "outputs": [
        {
          "data": {
            "text/html": [
              "<div>\n",
              "<style scoped>\n",
              "    .dataframe tbody tr th:only-of-type {\n",
              "        vertical-align: middle;\n",
              "    }\n",
              "\n",
              "    .dataframe tbody tr th {\n",
              "        vertical-align: top;\n",
              "    }\n",
              "\n",
              "    .dataframe thead th {\n",
              "        text-align: right;\n",
              "    }\n",
              "</style>\n",
              "<table border=\"1\" class=\"dataframe\">\n",
              "  <thead>\n",
              "    <tr style=\"text-align: right;\">\n",
              "      <th></th>\n",
              "      <th>support</th>\n",
              "      <th>itemsets</th>\n",
              "    </tr>\n",
              "  </thead>\n",
              "  <tbody>\n",
              "    <tr>\n",
              "      <th>0</th>\n",
              "      <td>0.420290</td>\n",
              "      <td>(CASH)</td>\n",
              "    </tr>\n",
              "    <tr>\n",
              "      <th>1</th>\n",
              "      <td>0.333333</td>\n",
              "      <td>(QRIS-DANA)</td>\n",
              "    </tr>\n",
              "    <tr>\n",
              "      <th>2</th>\n",
              "      <td>0.352657</td>\n",
              "      <td>(QRIS-GOPAY)</td>\n",
              "    </tr>\n",
              "    <tr>\n",
              "      <th>3</th>\n",
              "      <td>0.318841</td>\n",
              "      <td>(QRIS-OTHERS)</td>\n",
              "    </tr>\n",
              "    <tr>\n",
              "      <th>4</th>\n",
              "      <td>0.362319</td>\n",
              "      <td>(QRIS-OVO)</td>\n",
              "    </tr>\n",
              "    <tr>\n",
              "      <th>5</th>\n",
              "      <td>0.285024</td>\n",
              "      <td>(QRIS-SHOPEEPAY)</td>\n",
              "    </tr>\n",
              "    <tr>\n",
              "      <th>6</th>\n",
              "      <td>0.140097</td>\n",
              "      <td>(CASH, QRIS-DANA)</td>\n",
              "    </tr>\n",
              "    <tr>\n",
              "      <th>7</th>\n",
              "      <td>0.125604</td>\n",
              "      <td>(CASH, QRIS-GOPAY)</td>\n",
              "    </tr>\n",
              "    <tr>\n",
              "      <th>8</th>\n",
              "      <td>0.101449</td>\n",
              "      <td>(CASH, QRIS-OTHERS)</td>\n",
              "    </tr>\n",
              "    <tr>\n",
              "      <th>9</th>\n",
              "      <td>0.188406</td>\n",
              "      <td>(CASH, QRIS-OVO)</td>\n",
              "    </tr>\n",
              "    <tr>\n",
              "      <th>10</th>\n",
              "      <td>0.096618</td>\n",
              "      <td>(CASH, QRIS-SHOPEEPAY)</td>\n",
              "    </tr>\n",
              "    <tr>\n",
              "      <th>11</th>\n",
              "      <td>0.120773</td>\n",
              "      <td>(QRIS-GOPAY, QRIS-DANA)</td>\n",
              "    </tr>\n",
              "    <tr>\n",
              "      <th>12</th>\n",
              "      <td>0.091787</td>\n",
              "      <td>(QRIS-OTHERS, QRIS-DANA)</td>\n",
              "    </tr>\n",
              "    <tr>\n",
              "      <th>13</th>\n",
              "      <td>0.106280</td>\n",
              "      <td>(QRIS-OVO, QRIS-DANA)</td>\n",
              "    </tr>\n",
              "    <tr>\n",
              "      <th>14</th>\n",
              "      <td>0.082126</td>\n",
              "      <td>(QRIS-SHOPEEPAY, QRIS-DANA)</td>\n",
              "    </tr>\n",
              "    <tr>\n",
              "      <th>15</th>\n",
              "      <td>0.101449</td>\n",
              "      <td>(QRIS-OTHERS, QRIS-GOPAY)</td>\n",
              "    </tr>\n",
              "    <tr>\n",
              "      <th>16</th>\n",
              "      <td>0.115942</td>\n",
              "      <td>(QRIS-OVO, QRIS-GOPAY)</td>\n",
              "    </tr>\n",
              "    <tr>\n",
              "      <th>17</th>\n",
              "      <td>0.067633</td>\n",
              "      <td>(QRIS-GOPAY, QRIS-SHOPEEPAY)</td>\n",
              "    </tr>\n",
              "    <tr>\n",
              "      <th>18</th>\n",
              "      <td>0.106280</td>\n",
              "      <td>(QRIS-OVO, QRIS-OTHERS)</td>\n",
              "    </tr>\n",
              "    <tr>\n",
              "      <th>19</th>\n",
              "      <td>0.086957</td>\n",
              "      <td>(QRIS-OTHERS, QRIS-SHOPEEPAY)</td>\n",
              "    </tr>\n",
              "    <tr>\n",
              "      <th>20</th>\n",
              "      <td>0.106280</td>\n",
              "      <td>(QRIS-OVO, QRIS-SHOPEEPAY)</td>\n",
              "    </tr>\n",
              "    <tr>\n",
              "      <th>21</th>\n",
              "      <td>0.053140</td>\n",
              "      <td>(CASH, QRIS-GOPAY, QRIS-DANA)</td>\n",
              "    </tr>\n",
              "  </tbody>\n",
              "</table>\n",
              "</div>"
            ],
            "text/plain": [
              "     support                       itemsets\n",
              "0   0.420290                         (CASH)\n",
              "1   0.333333                    (QRIS-DANA)\n",
              "2   0.352657                   (QRIS-GOPAY)\n",
              "3   0.318841                  (QRIS-OTHERS)\n",
              "4   0.362319                     (QRIS-OVO)\n",
              "5   0.285024               (QRIS-SHOPEEPAY)\n",
              "6   0.140097              (CASH, QRIS-DANA)\n",
              "7   0.125604             (CASH, QRIS-GOPAY)\n",
              "8   0.101449            (CASH, QRIS-OTHERS)\n",
              "9   0.188406               (CASH, QRIS-OVO)\n",
              "10  0.096618         (CASH, QRIS-SHOPEEPAY)\n",
              "11  0.120773        (QRIS-GOPAY, QRIS-DANA)\n",
              "12  0.091787       (QRIS-OTHERS, QRIS-DANA)\n",
              "13  0.106280          (QRIS-OVO, QRIS-DANA)\n",
              "14  0.082126    (QRIS-SHOPEEPAY, QRIS-DANA)\n",
              "15  0.101449      (QRIS-OTHERS, QRIS-GOPAY)\n",
              "16  0.115942         (QRIS-OVO, QRIS-GOPAY)\n",
              "17  0.067633   (QRIS-GOPAY, QRIS-SHOPEEPAY)\n",
              "18  0.106280        (QRIS-OVO, QRIS-OTHERS)\n",
              "19  0.086957  (QRIS-OTHERS, QRIS-SHOPEEPAY)\n",
              "20  0.106280     (QRIS-OVO, QRIS-SHOPEEPAY)\n",
              "21  0.053140  (CASH, QRIS-GOPAY, QRIS-DANA)"
            ]
          },
          "execution_count": 55,
          "metadata": {},
          "output_type": "execute_result"
        }
      ],
      "source": [
        "frequent_itemsets = apriori(df2, min_support = 0.05, use_colnames = True)\n",
        "frequent_itemsets"
      ]
    },
    {
      "cell_type": "markdown",
      "metadata": {
        "id": "DT2luLk1ZW7a"
      },
      "source": [
        "## **Market Basket Analysis**\n",
        "Menganalisa dari jenis pesanan (Dine-In dan Delivery)"
      ]
    },
    {
      "cell_type": "code",
      "execution_count": 56,
      "metadata": {
        "colab": {
          "base_uri": "https://localhost:8080/"
        },
        "id": "75pFF0kdZfQ5",
        "outputId": "539d5ecb-3454-40ad-9040-b79798ca4e38"
      },
      "outputs": [
        {
          "name": "stdout",
          "output_type": "stream",
          "text": [
            "207\n"
          ]
        }
      ],
      "source": [
        "transaction_list = []\n",
        "\n",
        "# For loop to create a list of the unique transactions throughout the dataset:\n",
        "for i in df['tanggal_transaksi'].unique():\n",
        "    tlist = list(set(df[df['tanggal_transaksi']==i]['jenis_pesanan']))\n",
        "    if len(tlist)>0:\n",
        "        transaction_list.append(tlist)\n",
        "print(len(transaction_list))"
      ]
    },
    {
      "cell_type": "code",
      "execution_count": 57,
      "metadata": {
        "colab": {
          "base_uri": "https://localhost:8080/"
        },
        "id": "TKL2ULxAZ3vC",
        "outputId": "5db38b08-5a5f-42a8-cfc7-28acbd425abc"
      },
      "outputs": [],
      "source": [
        "te = TransactionEncoder()\n",
        "te_ary = te.fit(transaction_list).transform(transaction_list)\n",
        "df2 = pd.DataFrame(te_ary, columns=te.columns_)"
      ]
    },
    {
      "cell_type": "code",
      "execution_count": 58,
      "metadata": {
        "colab": {
          "base_uri": "https://localhost:8080/",
          "height": 480
        },
        "id": "TlXQYECoabQW",
        "outputId": "884c9f31-a291-4feb-99fc-4be89dbee08e"
      },
      "outputs": [
        {
          "data": {
            "text/html": [
              "<div>\n",
              "<style scoped>\n",
              "    .dataframe tbody tr th:only-of-type {\n",
              "        vertical-align: middle;\n",
              "    }\n",
              "\n",
              "    .dataframe tbody tr th {\n",
              "        vertical-align: top;\n",
              "    }\n",
              "\n",
              "    .dataframe thead th {\n",
              "        text-align: right;\n",
              "    }\n",
              "</style>\n",
              "<table border=\"1\" class=\"dataframe\">\n",
              "  <thead>\n",
              "    <tr style=\"text-align: right;\">\n",
              "      <th></th>\n",
              "      <th>Delivery</th>\n",
              "      <th>Dine-In</th>\n",
              "    </tr>\n",
              "  </thead>\n",
              "  <tbody>\n",
              "    <tr>\n",
              "      <th>0</th>\n",
              "      <td>True</td>\n",
              "      <td>True</td>\n",
              "    </tr>\n",
              "    <tr>\n",
              "      <th>1</th>\n",
              "      <td>True</td>\n",
              "      <td>False</td>\n",
              "    </tr>\n",
              "    <tr>\n",
              "      <th>2</th>\n",
              "      <td>True</td>\n",
              "      <td>False</td>\n",
              "    </tr>\n",
              "    <tr>\n",
              "      <th>3</th>\n",
              "      <td>False</td>\n",
              "      <td>True</td>\n",
              "    </tr>\n",
              "    <tr>\n",
              "      <th>4</th>\n",
              "      <td>True</td>\n",
              "      <td>True</td>\n",
              "    </tr>\n",
              "    <tr>\n",
              "      <th>...</th>\n",
              "      <td>...</td>\n",
              "      <td>...</td>\n",
              "    </tr>\n",
              "    <tr>\n",
              "      <th>202</th>\n",
              "      <td>True</td>\n",
              "      <td>False</td>\n",
              "    </tr>\n",
              "    <tr>\n",
              "      <th>203</th>\n",
              "      <td>True</td>\n",
              "      <td>False</td>\n",
              "    </tr>\n",
              "    <tr>\n",
              "      <th>204</th>\n",
              "      <td>True</td>\n",
              "      <td>False</td>\n",
              "    </tr>\n",
              "    <tr>\n",
              "      <th>205</th>\n",
              "      <td>True</td>\n",
              "      <td>False</td>\n",
              "    </tr>\n",
              "    <tr>\n",
              "      <th>206</th>\n",
              "      <td>False</td>\n",
              "      <td>True</td>\n",
              "    </tr>\n",
              "  </tbody>\n",
              "</table>\n",
              "<p>207 rows × 2 columns</p>\n",
              "</div>"
            ],
            "text/plain": [
              "     Delivery  Dine-In\n",
              "0        True     True\n",
              "1        True    False\n",
              "2        True    False\n",
              "3       False     True\n",
              "4        True     True\n",
              "..        ...      ...\n",
              "202      True    False\n",
              "203      True    False\n",
              "204      True    False\n",
              "205      True    False\n",
              "206     False     True\n",
              "\n",
              "[207 rows x 2 columns]"
            ]
          },
          "execution_count": 58,
          "metadata": {},
          "output_type": "execute_result"
        }
      ],
      "source": [
        "df2"
      ]
    },
    {
      "cell_type": "code",
      "execution_count": 59,
      "metadata": {
        "colab": {
          "base_uri": "https://localhost:8080/",
          "height": 285
        },
        "id": "mKDPruPfabQX",
        "outputId": "f233d965-adea-49aa-ef2c-4e4b87760527"
      },
      "outputs": [
        {
          "data": {
            "text/html": [
              "<div>\n",
              "<style scoped>\n",
              "    .dataframe tbody tr th:only-of-type {\n",
              "        vertical-align: middle;\n",
              "    }\n",
              "\n",
              "    .dataframe tbody tr th {\n",
              "        vertical-align: top;\n",
              "    }\n",
              "\n",
              "    .dataframe thead th {\n",
              "        text-align: right;\n",
              "    }\n",
              "</style>\n",
              "<table border=\"1\" class=\"dataframe\">\n",
              "  <thead>\n",
              "    <tr style=\"text-align: right;\">\n",
              "      <th></th>\n",
              "      <th>antecedents</th>\n",
              "      <th>consequents</th>\n",
              "      <th>support</th>\n",
              "      <th>confidence</th>\n",
              "      <th>lift</th>\n",
              "    </tr>\n",
              "  </thead>\n",
              "  <tbody>\n",
              "  </tbody>\n",
              "</table>\n",
              "</div>"
            ],
            "text/plain": [
              "Empty DataFrame\n",
              "Columns: [antecedents, consequents, support, confidence, lift]\n",
              "Index: []"
            ]
          },
          "execution_count": 59,
          "metadata": {},
          "output_type": "execute_result"
        }
      ],
      "source": [
        "frequent_itemsets = apriori(df2, min_support=0.01, use_colnames=True)\n",
        "rules = association_rules(frequent_itemsets, metric='lift', min_threshold=1.0)\n",
        "metrix = pd.DataFrame(rules)\n",
        "metrix[['antecedents','consequents', 'support', 'confidence', 'lift']].sort_values('lift', ascending=False)"
      ]
    },
    {
      "cell_type": "code",
      "execution_count": 60,
      "metadata": {
        "colab": {
          "base_uri": "https://localhost:8080/",
          "height": 200
        },
        "id": "9b1GgT8PabQX",
        "outputId": "2b3678ce-924b-49b5-a253-8a2cbb1f34f0"
      },
      "outputs": [
        {
          "data": {
            "text/html": [
              "<div>\n",
              "<style scoped>\n",
              "    .dataframe tbody tr th:only-of-type {\n",
              "        vertical-align: middle;\n",
              "    }\n",
              "\n",
              "    .dataframe tbody tr th {\n",
              "        vertical-align: top;\n",
              "    }\n",
              "\n",
              "    .dataframe thead th {\n",
              "        text-align: right;\n",
              "    }\n",
              "</style>\n",
              "<table border=\"1\" class=\"dataframe\">\n",
              "  <thead>\n",
              "    <tr style=\"text-align: right;\">\n",
              "      <th></th>\n",
              "      <th>support</th>\n",
              "      <th>itemsets</th>\n",
              "    </tr>\n",
              "  </thead>\n",
              "  <tbody>\n",
              "    <tr>\n",
              "      <th>0</th>\n",
              "      <td>0.700483</td>\n",
              "      <td>(Delivery)</td>\n",
              "    </tr>\n",
              "    <tr>\n",
              "      <th>1</th>\n",
              "      <td>0.748792</td>\n",
              "      <td>(Dine-In)</td>\n",
              "    </tr>\n",
              "    <tr>\n",
              "      <th>2</th>\n",
              "      <td>0.449275</td>\n",
              "      <td>(Delivery, Dine-In)</td>\n",
              "    </tr>\n",
              "  </tbody>\n",
              "</table>\n",
              "</div>"
            ],
            "text/plain": [
              "    support             itemsets\n",
              "0  0.700483           (Delivery)\n",
              "1  0.748792            (Dine-In)\n",
              "2  0.449275  (Delivery, Dine-In)"
            ]
          },
          "execution_count": 60,
          "metadata": {},
          "output_type": "execute_result"
        }
      ],
      "source": [
        "frequent_itemsets = apriori(df2, min_support = 0.05, use_colnames = True)\n",
        "frequent_itemsets"
      ]
    },
    {
      "cell_type": "markdown",
      "metadata": {
        "id": "MCpnvJ3PiU_Z"
      },
      "source": [
        "## **Market Basket Analysis**\n",
        "Menganalisa dari jenis Indomie (Mie Kuah dan Mie goreng)"
      ]
    },
    {
      "cell_type": "code",
      "execution_count": 61,
      "metadata": {
        "colab": {
          "base_uri": "https://localhost:8080/"
        },
        "id": "2Ext2Y5Xico-",
        "outputId": "5d197ec2-3e5b-4313-89ff-5362c650c096"
      },
      "outputs": [
        {
          "name": "stdout",
          "output_type": "stream",
          "text": [
            "207\n"
          ]
        }
      ],
      "source": [
        "transaction_list = []\n",
        "\n",
        "# For loop to create a list of the unique transactions throughout the dataset:\n",
        "for i in df['tanggal_transaksi'].unique():\n",
        "    tlist = list(set(df[df['tanggal_transaksi']==i]['jenis_produk']))\n",
        "    if len(tlist)>0:\n",
        "        transaction_list.append(tlist)\n",
        "print(len(transaction_list))"
      ]
    },
    {
      "cell_type": "code",
      "execution_count": 62,
      "metadata": {
        "colab": {
          "base_uri": "https://localhost:8080/"
        },
        "id": "znYhDqVdi5bK",
        "outputId": "bc4c28b5-fd46-4167-ef0a-8744cb2fc7e4"
      },
      "outputs": [],
      "source": [
        "te = TransactionEncoder()\n",
        "te_ary = te.fit(transaction_list).transform(transaction_list)\n",
        "df2 = pd.DataFrame(te_ary, columns=te.columns_)"
      ]
    },
    {
      "cell_type": "code",
      "execution_count": 63,
      "metadata": {
        "colab": {
          "base_uri": "https://localhost:8080/",
          "height": 480
        },
        "id": "pcDtl7ZUjAEU",
        "outputId": "75da77bb-1269-413a-9266-343e0ca5d579"
      },
      "outputs": [
        {
          "data": {
            "text/html": [
              "<div>\n",
              "<style scoped>\n",
              "    .dataframe tbody tr th:only-of-type {\n",
              "        vertical-align: middle;\n",
              "    }\n",
              "\n",
              "    .dataframe tbody tr th {\n",
              "        vertical-align: top;\n",
              "    }\n",
              "\n",
              "    .dataframe thead th {\n",
              "        text-align: right;\n",
              "    }\n",
              "</style>\n",
              "<table border=\"1\" class=\"dataframe\">\n",
              "  <thead>\n",
              "    <tr style=\"text-align: right;\">\n",
              "      <th></th>\n",
              "      <th>mie-goreng</th>\n",
              "      <th>mie-kuah</th>\n",
              "    </tr>\n",
              "  </thead>\n",
              "  <tbody>\n",
              "    <tr>\n",
              "      <th>0</th>\n",
              "      <td>True</td>\n",
              "      <td>True</td>\n",
              "    </tr>\n",
              "    <tr>\n",
              "      <th>1</th>\n",
              "      <td>False</td>\n",
              "      <td>True</td>\n",
              "    </tr>\n",
              "    <tr>\n",
              "      <th>2</th>\n",
              "      <td>False</td>\n",
              "      <td>True</td>\n",
              "    </tr>\n",
              "    <tr>\n",
              "      <th>3</th>\n",
              "      <td>False</td>\n",
              "      <td>True</td>\n",
              "    </tr>\n",
              "    <tr>\n",
              "      <th>4</th>\n",
              "      <td>True</td>\n",
              "      <td>True</td>\n",
              "    </tr>\n",
              "    <tr>\n",
              "      <th>...</th>\n",
              "      <td>...</td>\n",
              "      <td>...</td>\n",
              "    </tr>\n",
              "    <tr>\n",
              "      <th>202</th>\n",
              "      <td>False</td>\n",
              "      <td>True</td>\n",
              "    </tr>\n",
              "    <tr>\n",
              "      <th>203</th>\n",
              "      <td>False</td>\n",
              "      <td>True</td>\n",
              "    </tr>\n",
              "    <tr>\n",
              "      <th>204</th>\n",
              "      <td>False</td>\n",
              "      <td>True</td>\n",
              "    </tr>\n",
              "    <tr>\n",
              "      <th>205</th>\n",
              "      <td>True</td>\n",
              "      <td>False</td>\n",
              "    </tr>\n",
              "    <tr>\n",
              "      <th>206</th>\n",
              "      <td>False</td>\n",
              "      <td>True</td>\n",
              "    </tr>\n",
              "  </tbody>\n",
              "</table>\n",
              "<p>207 rows × 2 columns</p>\n",
              "</div>"
            ],
            "text/plain": [
              "     mie-goreng  mie-kuah\n",
              "0          True      True\n",
              "1         False      True\n",
              "2         False      True\n",
              "3         False      True\n",
              "4          True      True\n",
              "..          ...       ...\n",
              "202       False      True\n",
              "203       False      True\n",
              "204       False      True\n",
              "205        True     False\n",
              "206       False      True\n",
              "\n",
              "[207 rows x 2 columns]"
            ]
          },
          "execution_count": 63,
          "metadata": {},
          "output_type": "execute_result"
        }
      ],
      "source": [
        "df2"
      ]
    },
    {
      "cell_type": "code",
      "execution_count": 64,
      "metadata": {
        "colab": {
          "base_uri": "https://localhost:8080/",
          "height": 230
        },
        "id": "na84h5w8jLG7",
        "outputId": "18dd98ce-bff2-4200-b0e5-c7efa6c6c556"
      },
      "outputs": [
        {
          "data": {
            "text/html": [
              "<div>\n",
              "<style scoped>\n",
              "    .dataframe tbody tr th:only-of-type {\n",
              "        vertical-align: middle;\n",
              "    }\n",
              "\n",
              "    .dataframe tbody tr th {\n",
              "        vertical-align: top;\n",
              "    }\n",
              "\n",
              "    .dataframe thead th {\n",
              "        text-align: right;\n",
              "    }\n",
              "</style>\n",
              "<table border=\"1\" class=\"dataframe\">\n",
              "  <thead>\n",
              "    <tr style=\"text-align: right;\">\n",
              "      <th></th>\n",
              "      <th>antecedents</th>\n",
              "      <th>consequents</th>\n",
              "      <th>support</th>\n",
              "      <th>confidence</th>\n",
              "      <th>lift</th>\n",
              "    </tr>\n",
              "  </thead>\n",
              "  <tbody>\n",
              "  </tbody>\n",
              "</table>\n",
              "</div>"
            ],
            "text/plain": [
              "Empty DataFrame\n",
              "Columns: [antecedents, consequents, support, confidence, lift]\n",
              "Index: []"
            ]
          },
          "execution_count": 64,
          "metadata": {},
          "output_type": "execute_result"
        }
      ],
      "source": [
        "frequent_itemsets = apriori(df2, min_support=0.01, use_colnames=True)\n",
        "rules = association_rules(frequent_itemsets, metric='lift', min_threshold=1.0)\n",
        "metrix = pd.DataFrame(rules)\n",
        "metrix[['antecedents','consequents', 'support', 'confidence', 'lift']].sort_values('lift', ascending=False)"
      ]
    },
    {
      "cell_type": "code",
      "execution_count": 65,
      "metadata": {
        "colab": {
          "base_uri": "https://localhost:8080/",
          "height": 200
        },
        "id": "tUhjcrqpjTDD",
        "outputId": "e88fc782-c4d4-431e-ba9f-79fd8a2392cd"
      },
      "outputs": [
        {
          "data": {
            "text/html": [
              "<div>\n",
              "<style scoped>\n",
              "    .dataframe tbody tr th:only-of-type {\n",
              "        vertical-align: middle;\n",
              "    }\n",
              "\n",
              "    .dataframe tbody tr th {\n",
              "        vertical-align: top;\n",
              "    }\n",
              "\n",
              "    .dataframe thead th {\n",
              "        text-align: right;\n",
              "    }\n",
              "</style>\n",
              "<table border=\"1\" class=\"dataframe\">\n",
              "  <thead>\n",
              "    <tr style=\"text-align: right;\">\n",
              "      <th></th>\n",
              "      <th>support</th>\n",
              "      <th>itemsets</th>\n",
              "    </tr>\n",
              "  </thead>\n",
              "  <tbody>\n",
              "    <tr>\n",
              "      <th>0</th>\n",
              "      <td>0.536232</td>\n",
              "      <td>(mie-goreng)</td>\n",
              "    </tr>\n",
              "    <tr>\n",
              "      <th>1</th>\n",
              "      <td>0.893720</td>\n",
              "      <td>(mie-kuah)</td>\n",
              "    </tr>\n",
              "    <tr>\n",
              "      <th>2</th>\n",
              "      <td>0.429952</td>\n",
              "      <td>(mie-kuah, mie-goreng)</td>\n",
              "    </tr>\n",
              "  </tbody>\n",
              "</table>\n",
              "</div>"
            ],
            "text/plain": [
              "    support                itemsets\n",
              "0  0.536232            (mie-goreng)\n",
              "1  0.893720              (mie-kuah)\n",
              "2  0.429952  (mie-kuah, mie-goreng)"
            ]
          },
          "execution_count": 65,
          "metadata": {},
          "output_type": "execute_result"
        }
      ],
      "source": [
        "frequent_itemsets = apriori(df2, min_support = 0.05, use_colnames = True)\n",
        "frequent_itemsets"
      ]
    },
    {
      "cell_type": "code",
      "execution_count": 72,
      "metadata": {},
      "outputs": [],
      "source": [
        "# save model untuk deploy\n",
        "import joblib\n",
        "import pickle"
      ]
    },
    {
      "cell_type": "markdown",
      "metadata": {
        "id": "fbgS4hYzzLAA"
      },
      "source": [
        "# **Kesimpulan**\n",
        "\n",
        "Dapat dilihat dari analisis diatas, Dalam penjualan dari bulan Januari hingga Agustus, Warmindo telah menjual indomie dengan rasa sebagai berikut :\n",
        "\n",
        "*   Indomie Soto Banjar Kulit Limau\n",
        "*   Indomie Soto Betawi\n",
        "*   Indomie Empal Gentong\n",
        "*   Indomie Kari Ayam\n",
        "*   Indomie Goreng Cabe Ijo\n",
        "\n",
        "Ini ada 5 rasa indomie yang dijual di warmindo dengan perjualan terbaik dari 18 rasa totalnya. Dengan 4 rasa indomie rebus dan 1 indomie goreng.\n",
        "\n",
        "Untuk probabilitas hasil dari algoritma apriori dalam Market Basket Analysis, bisa disimpulkan sebagai berikut :\n",
        "\n",
        "Dilihat dari analisis diatas, di mana semakin tinggi nilai peningkatan, semakin kuat korelasi antar item. Justru korelasi antar item yang dibeli, tidak datang dari rasa indomie soto banjar dan soto betawi yang merupakan rasa terlaris. Berikut penjelasannya (dari 5 nilai terbesar)\n",
        "\n",
        "> Indomie Kari Ayam & Indomie Baso Sapi -> Indomie Mie Kocok Bandung\n",
        "\n",
        "> Indomie Kari Ayam -> Indomie Mie Kocok Bandung & Indomie Baso Sapi\n",
        "\n",
        "> Indomie Soto Lamongan & Soto Betawi -> Indomie Soto Banjar Limau Kuit\n",
        "\n",
        "> Indomie Ayam Bawang -> Indomie Goreng Pedas\n",
        "\n",
        "> Indomie Goreng Pedas -> Indomie Ayam Bawang\n",
        "\n",
        "Penjelasan dari sisi pembayaran (dari 5 nilai terbesar)\n",
        "\n",
        "> QRIS Others, DANA, OVO -> QRIS Shopee Pay\n",
        "\n",
        "> QRIS Others, GoPay, OVO -> QRIS Shopee Pay\n",
        "\n",
        "> QRIS GoPay, Shopee Pay, Cash -> QRIS OVO\n",
        "\n",
        "> QRIS GoPay, Shopee Pay, others -> QRIS OVO\n",
        "\n",
        "> QRIS GoPay, Shopee Pay, DANA -> QRIS Shopee Pay dan OVO\n",
        "\n",
        "Setiap Bisnis, tak terkecuali warmindo, selalu mencari cara untuk terus mengoptimalkan penjualan dan profit. Dengan mengetahui korelasi, hubungan antara produk, pembayaran, tipe indomie yang disukai, dan jenis pesanan makan.\n",
        "Peletakan produk di etalase merupakan salah satu cara untuk menarik pelanggan seperti menaruh rasa-rasa indomie yang favorit, sering dipesan, dan memberi promo seperti beli 2 rasa tertentu, gratis 1 rasa yang lain. Mungkin bisa menjadi alternatif bagi rasa yang kurang favorit.\n",
        "\n",
        "Untuk pembayaran, sangat didominasi oleh QRIS dibandingkan Cash (QRIS all merchant 58%, Cash 42%). Bisa juga dibuat promo cashback untuk pembayarannya. Dalam hal di data warmindo ini, Shopee Pay, GoPay, Dana dan others (merchant Bank) menjadi primadona dalam pembayaran.\n",
        "\n",
        "\n",
        "\n",
        "\n",
        "\n",
        "\n",
        "\n",
        "\n",
        "\n",
        "\n",
        "\n"
      ]
    }
  ],
  "metadata": {
    "colab": {
      "collapsed_sections": [
        "fwO2ox36dZHF",
        "XgbCGVWWfF2n",
        "B8mKLfOrgc2j",
        "IKR4peUfgcmo"
      ],
      "provenance": []
    },
    "kernelspec": {
      "display_name": "Python 3",
      "name": "python3"
    },
    "language_info": {
      "codemirror_mode": {
        "name": "ipython",
        "version": 3
      },
      "file_extension": ".py",
      "mimetype": "text/x-python",
      "name": "python",
      "nbconvert_exporter": "python",
      "pygments_lexer": "ipython3",
      "version": "3.11.5"
    }
  },
  "nbformat": 4,
  "nbformat_minor": 0
}
